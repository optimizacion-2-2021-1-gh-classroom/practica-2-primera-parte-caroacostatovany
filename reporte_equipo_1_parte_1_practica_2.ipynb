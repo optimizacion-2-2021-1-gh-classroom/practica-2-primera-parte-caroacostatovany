{
 "cells": [
  {
   "cell_type": "markdown",
   "metadata": {},
   "source": [
    "# **Método símplex:**\n",
    "## **Integración con Kale y Minikube**"
   ]
  },
  {
   "cell_type": "markdown",
   "metadata": {},
   "source": [
    "## 1.  Introducción"
   ]
  },
  {
   "cell_type": "markdown",
   "metadata": {},
   "source": [
    "En la parte 2 de la práctica 1 desarrollamos el paquete ***`mex`*** para resolver problemas de optimización por medio del método símplex.  La documentación del paquete se encuentra [aquí](https://optimizacion-2-2021-1-gh-classroom.github.io/practica-1-segunda-parte-caroacostatovany/).\n",
    "\n",
    "En esta parte 1 de la práctica 2, integraremos nuestro paquete con Kale y Minikube para poder lanzar pipelines desde un Notebook de Jupyter, y utilizar nuestro paquete para la resolución de optimización"
   ]
  },
  {
   "cell_type": "markdown",
   "metadata": {},
   "source": [
    "## 2.  Implementación"
   ]
  },
  {
   "cell_type": "markdown",
   "metadata": {},
   "source": [
    "Se puede hacer uso del siguiente botón de binder para hacer pruebas con nuestro paquete:\n",
    "\n",
    "[![Binder](https://mybinder.org/badge_logo.svg)](https://mybinder.org/v2/gh/optimizacion-2-2021-1-gh-classroom/practica-1-segunda-parte-caroacostatovany/main?urlpath=lab)"
   ]
  },
  {
   "cell_type": "markdown",
   "metadata": {},
   "source": [
    "Adicionalmente, se creó la imagen de Docker **`optimizacion-2-practica-2-parte-1`** que contiene todo lo necesario para ejecutar nuestro paquete ***`mex`*** junto con Kale."
   ]
  },
  {
   "cell_type": "markdown",
   "metadata": {},
   "source": [
    "## 3.  Evaluación de resultados"
   ]
  },
  {
   "cell_type": "markdown",
   "metadata": {},
   "source": [
    "## 3.1. Problema prototipo - Maximización:\n",
    "(De las notas del Libro de Optimización)"
   ]
  },
  {
   "cell_type": "markdown",
   "metadata": {},
   "source": [
    "$$\\max_{x \\in \\mathbb{R}^2} 3x_1 + 5x_2$$\n",
    "\n",
    "$$\\text{sujeto a: }$$\n",
    "$$x_1 \\leq 4$$\n",
    "$$2x_2 \\leq 12$$\n",
    "$$3x_1 + 2x_2 \\leq 18$$\n",
    "$$x_1 \\geq 0, x_2 \\geq 0$$"
   ]
  },
  {
   "cell_type": "code",
   "execution_count": null,
   "metadata": {},
   "outputs": [],
   "source": []
  },
  {
   "cell_type": "code",
   "execution_count": null,
   "metadata": {},
   "outputs": [],
   "source": []
  },
  {
   "cell_type": "code",
   "execution_count": null,
   "metadata": {},
   "outputs": [],
   "source": []
  },
  {
   "cell_type": "markdown",
   "metadata": {},
   "source": [
    "## 3.2. Ejemplo del lema de Farkas - Minimización:\n",
    "(De las notas del Libro de Optimización)"
   ]
  },
  {
   "cell_type": "markdown",
   "metadata": {},
   "source": [
    "$$\\min_{x \\in \\mathbb{R}^2} -1x_1 + -3x_2$$\n",
    "\n",
    "$$\\text{sujeto a: }$$\n",
    "$$x_1 + x_2 \\leq 6$$\n",
    "$$-x_1 + 2x_2 \\leq 8$$\n",
    "$$x_1 \\geq 0, x_2 \\geq 0$$"
   ]
  },
  {
   "cell_type": "code",
   "execution_count": null,
   "metadata": {},
   "outputs": [],
   "source": []
  },
  {
   "cell_type": "code",
   "execution_count": null,
   "metadata": {},
   "outputs": [],
   "source": []
  },
  {
   "cell_type": "code",
   "execution_count": null,
   "metadata": {},
   "outputs": [],
   "source": []
  },
  {
   "cell_type": "markdown",
   "metadata": {},
   "source": [
    "## 3.3. Ejemplo de problema de flujo con costo mínimo:\n",
    "(De las notas del Libro de Optimización)"
   ]
  },
  {
   "cell_type": "markdown",
   "metadata": {},
   "source": [
    "$$ \\min 2 x_{AB} + 4 x_{AC} + 9 x_{AD} + 3 x_{BC} + x_{CE} + 3 x_{DE} + 2x_{ED}$$\n",
    "\n",
    "$$\\text{sujeto a: }$$\n",
    "$$\n",
    "\\begin{eqnarray}\n",
    "&x_{AB}&  + &x_{AC}& + &x_{AD}&   &&         &&         &&         &&       &=& 50 \\nonumber \\\\\n",
    "&-x_{AB}&   &&         &&       + &x_{BC}&   &&         &&         &&       &=& 40 \\nonumber \\\\\n",
    "&&        - &x_{AC}&   &&       - &x_{BC}& + &x_{CE}&   &&         &&       &=& 0 \\nonumber \\\\\n",
    "&&          &&       - &x_{AD}&   &&         &&       + &x_{DE}& - &x_{ED}& &=& -30 \\nonumber \\\\\n",
    "&&          &&         &&         &&       - &x_{CE}& - &x_{DE}& + &x_{ED}& &=& -60 \\nonumber\n",
    "\\end{eqnarray}\n",
    "$$"
   ]
  },
  {
   "cell_type": "code",
   "execution_count": null,
   "metadata": {},
   "outputs": [],
   "source": []
  },
  {
   "cell_type": "code",
   "execution_count": null,
   "metadata": {},
   "outputs": [],
   "source": []
  },
  {
   "cell_type": "code",
   "execution_count": null,
   "metadata": {},
   "outputs": [],
   "source": []
  },
  {
   "cell_type": "code",
   "execution_count": null,
   "metadata": {},
   "outputs": [],
   "source": []
  }
 ],
 "metadata": {
  "kernelspec": {
   "display_name": "Python 3",
   "language": "python",
   "name": "python3"
  },
  "kubeflow_notebook": {
   "autosnapshot": false,
   "docker_image": "",
   "experiment": {
    "id": "",
    "name": ""
   },
   "experiment_name": "",
   "katib_run": false,
   "pipeline_description": "",
   "pipeline_name": "",
   "snapshot_volumes": false,
   "steps_defaults": [],
   "volume_access_mode": "rwm",
   "volumes": []
  },
  "language_info": {
   "codemirror_mode": {
    "name": "ipython",
    "version": 3
   },
   "file_extension": ".py",
   "mimetype": "text/x-python",
   "name": "python",
   "nbconvert_exporter": "python",
   "pygments_lexer": "ipython3",
   "version": "3.6.9"
  }
 },
 "nbformat": 4,
 "nbformat_minor": 4
}
