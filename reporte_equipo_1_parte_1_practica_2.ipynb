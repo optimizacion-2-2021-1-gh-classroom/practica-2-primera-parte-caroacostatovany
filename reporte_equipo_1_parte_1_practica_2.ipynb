{
 "cells": [
  {
   "cell_type": "markdown",
   "metadata": {
    "tags": []
   },
   "source": [
    "# **Método símplex:**\n",
    "## **Integración con Kale y Minikube**"
   ]
  },
  {
   "cell_type": "markdown",
   "metadata": {
    "tags": []
   },
   "source": [
    "## 1.  Introducción"
   ]
  },
  {
   "cell_type": "markdown",
   "metadata": {
    "tags": []
   },
   "source": [
    "En la parte 2 de la práctica 1 desarrollamos el paquete ***`mex`*** para resolver problemas de optimización por medio del método símplex.  La documentación del paquete se encuentra [aquí](https://optimizacion-2-2021-1-gh-classroom.github.io/practica-1-segunda-parte-caroacostatovany/).\n",
    "\n",
    "En esta parte 1 de la práctica 2, integraremos nuestro paquete con Kale y Minikube para poder lanzar pipelines desde un Notebook de Jupyter, y utilizar nuestro paquete para la resolución de optimización."
   ]
  },
  {
   "cell_type": "markdown",
   "metadata": {
    "tags": []
   },
   "source": [
    "## 2.  Implementación"
   ]
  },
  {
   "cell_type": "markdown",
   "metadata": {
    "tags": []
   },
   "source": [
    "Se puede hacer uso del siguiente botón de binder para hacer pruebas con nuestro paquete:\n",
    "\n",
    "[![Binder](https://mybinder.org/badge_logo.svg)](https://mybinder.org/v2/gh/optimizacion-2-2021-1-gh-classroom/practica-2-primera-parte-caroacostatovany.git/main?urlpath=lab)"
   ]
  },
  {
   "cell_type": "markdown",
   "metadata": {
    "tags": []
   },
   "source": [
    "Adicionalmente, se creó la imagen de Docker **`optimizacion-2-practica-2-parte-1`** que contiene todo lo necesario para ejecutar nuestro paquete ***`mex`*** junto con Kale."
   ]
  },
  {
   "cell_type": "markdown",
   "metadata": {
    "tags": []
   },
   "source": [
    "## 3.  Evaluación de resultados"
   ]
  },
  {
   "cell_type": "code",
   "execution_count": 50,
   "metadata": {
    "tags": [
     "imports"
    ]
   },
   "outputs": [],
   "source": [
    "import copy\n",
    "import matplotlib.pyplot as plt\n",
    "import networkx as nx\n",
    "import numpy as np\n",
    "import os\n",
    "import pprint\n",
    "from scipy.optimize import linprog\n",
    "from pytest import approx\n",
    "\n",
    "from mex.simplex.simplex_networks import create_matrix, pivots_col, pivots_row, find_negative_col, find_negative_row, find_pivot_col, find_pivot_row, pivot\n",
    "from mex.simplex.problem_definition import add_cons, constrain, add_obj, obj, maxz, minz"
   ]
  },
  {
   "cell_type": "markdown",
   "metadata": {
    "tags": []
   },
   "source": [
    "## 3.1. Problema prototipo - Maximización:\n",
    "(De las notas del Libro de Optimización)"
   ]
  },
  {
   "cell_type": "markdown",
   "metadata": {
    "tags": []
   },
   "source": [
    "$$\\max_{x \\in \\mathbb{R}^2} 3x_1 + 5x_2$$\n",
    "\n",
    "$$\\text{sujeto a: }$$\n",
    "$$x_1 \\leq 4$$\n",
    "$$2x_2 \\leq 12$$\n",
    "$$3x_1 + 2x_2 \\leq 18$$\n",
    "$$x_1 \\geq 0, x_2 \\geq 0$$"
   ]
  },
  {
   "cell_type": "markdown",
   "metadata": {
    "tags": []
   },
   "source": [
    "### Resolvemos con `scipy`"
   ]
  },
  {
   "cell_type": "code",
   "execution_count": 51,
   "metadata": {
    "tags": [
     "block:definir_valores_1"
    ]
   },
   "outputs": [],
   "source": [
    "c_max_obj_1 = [-3, -5]\n",
    "A_max_obj_1 = [[1, 0], [0, 2], [3, 2]]\n",
    "b_max_obj_1 = [4, 12, 18]"
   ]
  },
  {
   "cell_type": "code",
   "execution_count": 52,
   "metadata": {
    "tags": [
     "block:funcion_min_1",
     "prev:definir_valores_1"
    ]
   },
   "outputs": [],
   "source": [
    "max_obj_1 = -1*linprog(c_max_obj_1, A_ub=A_max_obj_1, b_ub=b_max_obj_1).fun"
   ]
  },
  {
   "cell_type": "code",
   "execution_count": 53,
   "metadata": {
    "tags": [
     "block:obtener_coeff_scipy_1",
     "prev:funcion_min_1"
    ]
   },
   "outputs": [],
   "source": [
    "coeff_obj_1 = linprog(c_max_obj_1, A_ub=A_max_obj_1, b_ub=b_max_obj_1).x"
   ]
  },
  {
   "cell_type": "markdown",
   "metadata": {
    "tags": []
   },
   "source": [
    "### Resolvemos con `mex`"
   ]
  },
  {
   "cell_type": "code",
   "execution_count": 54,
   "metadata": {
    "tags": [
     "block:def_valores_1"
    ]
   },
   "outputs": [],
   "source": [
    "n_var_approx_1 = 2\n",
    "n_cons_approx_1 = 3"
   ]
  },
  {
   "cell_type": "code",
   "execution_count": 55,
   "metadata": {
    "tags": [
     "block:crear_matriz_1",
     "prev:def_valores_1"
    ]
   },
   "outputs": [],
   "source": [
    "matrix_max_approx_1 = create_matrix(n_var_approx_1,n_cons_approx_1)"
   ]
  },
  {
   "cell_type": "code",
   "execution_count": 56,
   "metadata": {
    "tags": [
     "block:limitaciones_obj_1",
     "prev:crear_matriz_1"
    ]
   },
   "outputs": [],
   "source": [
    "constrain(matrix_max_approx_1,'1,0,L,4')\n",
    "constrain(matrix_max_approx_1,'0,2,L,12')\n",
    "constrain(matrix_max_approx_1,'3,2,L,18')\n",
    "obj(matrix_max_approx_1,'3,5,0')"
   ]
  },
  {
   "cell_type": "code",
   "execution_count": 57,
   "metadata": {
    "tags": [
     "block:definir_problema_1",
     "prev:limitaciones_obj_1"
    ]
   },
   "outputs": [],
   "source": [
    "problem_approx_1 = maxz(matrix_max_approx_1)"
   ]
  },
  {
   "cell_type": "code",
   "execution_count": 58,
   "metadata": {
    "tags": [
     "block:min_coeff_approx_1",
     "prev:definir_problema_1"
    ]
   },
   "outputs": [],
   "source": [
    "max_approx_1 = problem_approx_1['max']\n",
    "problem_approx_1.pop('max')\n",
    "coeff_approx_1 = np.array(list(problem_approx_1.values()))"
   ]
  },
  {
   "cell_type": "code",
   "execution_count": 59,
   "metadata": {},
   "outputs": [
    {
     "name": "stdout",
     "output_type": "stream",
     "text": [
      "El valor objetivo obtenido con scipy es:  35.99999997843391\n",
      "El valor aproximado obtenido con mex es:  36.0\n"
     ]
    }
   ],
   "source": [
    "print(\"El valor objetivo obtenido con scipy es: \", max_obj_1)\n",
    "print(\"El valor aproximado obtenido con mex es: \", max_approx_1)"
   ]
  },
  {
   "cell_type": "code",
   "execution_count": 60,
   "metadata": {},
   "outputs": [
    {
     "name": "stdout",
     "output_type": "stream",
     "text": [
      "Los coeficientes objetivos obtenidos con scipy son:  [2. 6.]\n",
      "Los coeficientes aproximados obtenidos con mex son:  [2. 6.]\n"
     ]
    }
   ],
   "source": [
    "print(\"Los coeficientes objetivos obtenidos con scipy son: \", coeff_obj_1)\n",
    "print(\"Los coeficientes aproximados obtenidos con mex son: \", coeff_approx_1)"
   ]
  },
  {
   "cell_type": "code",
   "execution_count": 61,
   "metadata": {
    "tags": [
     "block:asserts_1",
     "prev:min_coeff_approx_1",
     "prev:obtener_coeff_scipy_1"
    ]
   },
   "outputs": [],
   "source": [
    "assert max_obj_1 == approx(max_approx_1), \"El valor aproximado es incorrecto\"\n",
    "assert coeff_obj_1 == approx(coeff_approx_1), \"El valor de los coeficientes aproximados es incorrecto\""
   ]
  },
  {
   "cell_type": "markdown",
   "metadata": {
    "tags": []
   },
   "source": [
    "## 3.2. Ejemplo del lema de Farkas - Minimización:\n",
    "(De las notas del Libro de Optimización)"
   ]
  },
  {
   "cell_type": "markdown",
   "metadata": {
    "tags": []
   },
   "source": [
    "$$\\min_{x \\in \\mathbb{R}^2} -1x_1 + -3x_2$$\n",
    "\n",
    "$$\\text{sujeto a: }$$\n",
    "$$x_1 + x_2 \\leq 6$$\n",
    "$$-x_1 + 2x_2 \\leq 8$$\n",
    "$$x_1 \\geq 0, x_2 \\geq 0$$"
   ]
  },
  {
   "cell_type": "markdown",
   "metadata": {
    "tags": []
   },
   "source": [
    "### Resolvemos con `scipy`"
   ]
  },
  {
   "cell_type": "code",
   "execution_count": 62,
   "metadata": {
    "tags": [
     "block:definir_valores_2"
    ]
   },
   "outputs": [],
   "source": [
    "c_min_obj_2 = [-1, -3]\n",
    "A_min_obj_2 = [[1, 1], [-1, 2]]\n",
    "b_min_obj_2 = [6, 8]"
   ]
  },
  {
   "cell_type": "code",
   "execution_count": 63,
   "metadata": {
    "tags": [
     "block:funcion_min_2",
     "prev:definir_valores_2"
    ]
   },
   "outputs": [],
   "source": [
    "min_obj_2 = linprog(c_min_obj_2, A_ub = A_min_obj_2, b_ub = b_min_obj_2).fun"
   ]
  },
  {
   "cell_type": "code",
   "execution_count": 64,
   "metadata": {
    "tags": [
     "block:obtener_coeff_scipy_2",
     "prev:funcion_min_2"
    ]
   },
   "outputs": [],
   "source": [
    "coeff_obj_2 = linprog(c_min_obj_2, A_ub = A_min_obj_2, b_ub = b_min_obj_2).x"
   ]
  },
  {
   "cell_type": "markdown",
   "metadata": {
    "tags": []
   },
   "source": [
    "### Resolvemos con `mex`"
   ]
  },
  {
   "cell_type": "code",
   "execution_count": 65,
   "metadata": {
    "tags": [
     "block:def_valores_2"
    ]
   },
   "outputs": [],
   "source": [
    "n_var_approx_2 = 2\n",
    "n_cons_approx_2 = 2"
   ]
  },
  {
   "cell_type": "code",
   "execution_count": 66,
   "metadata": {
    "tags": [
     "block:crear_matriz_2",
     "prev:def_valores_2"
    ]
   },
   "outputs": [],
   "source": [
    "matrix_min_approx_2 = create_matrix(n_var_approx_2,n_cons_approx_2)"
   ]
  },
  {
   "cell_type": "code",
   "execution_count": 67,
   "metadata": {
    "tags": [
     "block:limitaciones_obj_2",
     "prev:crear_matriz_2"
    ]
   },
   "outputs": [],
   "source": [
    "constrain(matrix_min_approx_2,'1,1,L,6')\n",
    "constrain(matrix_min_approx_2,'-1,2,L,8')\n",
    "obj(matrix_min_approx_2,'-1,-3,0')"
   ]
  },
  {
   "cell_type": "code",
   "execution_count": 68,
   "metadata": {
    "tags": [
     "block:definir_problema_2",
     "prev:limitaciones_obj_2"
    ]
   },
   "outputs": [],
   "source": [
    "problem_approx_2 = minz(matrix_min_approx_2)"
   ]
  },
  {
   "cell_type": "code",
   "execution_count": 69,
   "metadata": {
    "tags": [
     "block:min_coeff_approx_2",
     "prev:definir_problema_2"
    ]
   },
   "outputs": [],
   "source": [
    "min_approx_2 = problem_approx_2['min']\n",
    "problem_approx_2.pop('min')\n",
    "coeff_approx_2 = np.array(list(problem_approx_2.values()))"
   ]
  },
  {
   "cell_type": "code",
   "execution_count": 70,
   "metadata": {},
   "outputs": [
    {
     "name": "stdout",
     "output_type": "stream",
     "text": [
      "El valor objetivo obtenido con scipy es:  -15.333333333015998\n",
      "El valor aproximado obtenido con mex es:  -15.333333333333332\n"
     ]
    }
   ],
   "source": [
    "print(\"El valor objetivo obtenido con scipy es: \", min_obj_2)\n",
    "print(\"El valor aproximado obtenido con mex es: \", min_approx_2)"
   ]
  },
  {
   "cell_type": "code",
   "execution_count": 71,
   "metadata": {},
   "outputs": [
    {
     "name": "stdout",
     "output_type": "stream",
     "text": [
      "Los coeficientes objetivos obtenidos con scipy son:  [1.33333333 4.66666667]\n",
      "Los coeficientes aproximados obtenidos con mex son:  [1.33333333 4.66666667]\n"
     ]
    }
   ],
   "source": [
    "print(\"Los coeficientes objetivos obtenidos con scipy son: \", coeff_obj_2)\n",
    "print(\"Los coeficientes aproximados obtenidos con mex son: \", coeff_approx_2)"
   ]
  },
  {
   "cell_type": "code",
   "execution_count": 72,
   "metadata": {
    "tags": [
     "block:asserts_2",
     "prev:min_coeff_approx_2",
     "prev:obtener_coeff_scipy_2"
    ]
   },
   "outputs": [],
   "source": [
    "assert min_approx_2 == approx(min_obj_2), \"El valor aproximado es incorrecto\"\n",
    "assert coeff_obj_2 == approx(coeff_approx_2), \"El valor de los coeficientes aproximados es incorrecto\""
   ]
  },
  {
   "cell_type": "markdown",
   "metadata": {
    "tags": []
   },
   "source": [
    "## 3.3. Ejemplo de problema de flujo con costo mínimo:\n",
    "(De las notas del Libro de Optimización)"
   ]
  },
  {
   "cell_type": "markdown",
   "metadata": {
    "tags": []
   },
   "source": [
    "$$ \\min 2 x_{AB} + 4 x_{AC} + 9 x_{AD} + 3 x_{BC} + x_{CE} + 3 x_{DE} + 2x_{ED}$$\n",
    "\n",
    "$$\\text{sujeto a: }$$\n",
    "$$\n",
    "\\begin{eqnarray}\n",
    "&x_{AB}&  + &x_{AC}& + &x_{AD}&   &&         &&         &&         &&       &=& 50 \\nonumber \\\\\n",
    "&-x_{AB}&   &&         &&       + &x_{BC}&   &&         &&         &&       &=& 40 \\nonumber \\\\\n",
    "&&        - &x_{AC}&   &&       - &x_{BC}& + &x_{CE}&   &&         &&       &=& 0 \\nonumber \\\\\n",
    "&&          &&       - &x_{AD}&   &&         &&       + &x_{DE}& - &x_{ED}& &=& -30 \\nonumber \\\\\n",
    "&&          &&         &&         &&       - &x_{CE}& - &x_{DE}& + &x_{ED}& &=& -60 \\nonumber\n",
    "\\end{eqnarray}\n",
    "$$"
   ]
  },
  {
   "cell_type": "markdown",
   "metadata": {
    "tags": []
   },
   "source": [
    "### Resolvemos con `scipy`"
   ]
  },
  {
   "cell_type": "code",
   "execution_count": 73,
   "metadata": {
    "tags": [
     "block:definir_valores_3"
    ]
   },
   "outputs": [],
   "source": [
    "c_net_obj_3 = [2,4,9,3,1,3,2]\n",
    "A_ub_net_obj_3 = [[1,0,0,0,0,0,0],\n",
    "            [0,0,0,0,1,0,0]]\n",
    "b_ub_net_obj_3 = [10,80]\n",
    "A_eq_net_obj_3 = [[1,1,1,0,0,0,0],\n",
    "         [-1,0,0,1,0,0,0],\n",
    "         [0,-1,0,-1,1,0,0],\n",
    "         [0,0,-1,0,0,1,-1],\n",
    "         [0,0,0,0,-1,-1,1]]\n",
    "b_eq_net_obj_3 = [50,40,0,-30,-60]"
   ]
  },
  {
   "cell_type": "code",
   "execution_count": 74,
   "metadata": {
    "tags": [
     "block:funcion_min_3",
     "prev:definir_valores_3"
    ]
   },
   "outputs": [
    {
     "name": "stderr",
     "output_type": "stream",
     "text": [
      "/usr/local/lib/python3.6/dist-packages/ipykernel_launcher.py:1: OptimizeWarning: A_eq does not appear to be of full row rank. To improve performance, check the problem formulation for redundant equality constraints.\n",
      "  \"\"\"Entry point for launching an IPython kernel.\n"
     ]
    }
   ],
   "source": [
    "net_obj_3 = linprog(c_net_obj_3, A_ub=A_ub_net_obj_3, b_ub=b_ub_net_obj_3, A_eq=A_eq_net_obj_3, b_eq=b_eq_net_obj_3).fun"
   ]
  },
  {
   "cell_type": "code",
   "execution_count": 75,
   "metadata": {
    "tags": [
     "block:obtener_coeff_scipy_3",
     "prev:funcion_min_3"
    ]
   },
   "outputs": [
    {
     "name": "stderr",
     "output_type": "stream",
     "text": [
      "/usr/local/lib/python3.6/dist-packages/ipykernel_launcher.py:1: OptimizeWarning: A_eq does not appear to be of full row rank. To improve performance, check the problem formulation for redundant equality constraints.\n",
      "  \"\"\"Entry point for launching an IPython kernel.\n"
     ]
    }
   ],
   "source": [
    "net_coeff_obj_3 = linprog(c_net_obj_3, A_ub=A_ub_net_obj_3, b_ub=b_ub_net_obj_3, A_eq=A_eq_net_obj_3, b_eq=b_eq_net_obj_3).x"
   ]
  },
  {
   "cell_type": "markdown",
   "metadata": {
    "tags": []
   },
   "source": [
    "### Resolvemos con `mex`"
   ]
  },
  {
   "cell_type": "code",
   "execution_count": 76,
   "metadata": {
    "tags": [
     "block:def_valores_3"
    ]
   },
   "outputs": [],
   "source": [
    "n_var_approx_3 = 7\n",
    "n_cons_approx_3 = 7"
   ]
  },
  {
   "cell_type": "code",
   "execution_count": 77,
   "metadata": {
    "tags": [
     "block:crear_matriz_3",
     "prev:def_valores_3"
    ]
   },
   "outputs": [],
   "source": [
    "matrix_net_approx_3 = create_matrix(n_var_approx_3,n_cons_approx_3)"
   ]
  },
  {
   "cell_type": "code",
   "execution_count": 78,
   "metadata": {
    "tags": [
     "block:limitaciones_obj_3",
     "prev:crear_matriz_3"
    ]
   },
   "outputs": [],
   "source": [
    "constrain(matrix_net_approx_3,'1,1,1,0,0,0,0,E,50')\n",
    "constrain(matrix_net_approx_3,'-1,0,0,1,0,0,0,E,40')\n",
    "constrain(matrix_net_approx_3,'0,-1,0,-1,1,0,0,E,0')\n",
    "constrain(matrix_net_approx_3,'0,0,-1,0,0,1,-1,E,-30')\n",
    "constrain(matrix_net_approx_3,'0,0,0,0,-1,-1,1,E,-60')\n",
    "constrain(matrix_net_approx_3,'1,0,0,0,0,0,0,L,10')\n",
    "constrain(matrix_net_approx_3,'0,0,0,0,1,0,0,L,80')\n",
    "obj(matrix_net_approx_3,'2,4,9,3,1,3,2,0')"
   ]
  },
  {
   "cell_type": "code",
   "execution_count": 79,
   "metadata": {
    "tags": [
     "block:definir_problema_3",
     "prev:limitaciones_obj_3"
    ]
   },
   "outputs": [],
   "source": [
    "problem_approx_3 = minz(matrix_net_approx_3)"
   ]
  },
  {
   "cell_type": "code",
   "execution_count": 80,
   "metadata": {
    "tags": [
     "block:min_coeff_approx_3",
     "prev:definir_problema_3"
    ]
   },
   "outputs": [],
   "source": [
    "net_approx_3 = problem_approx_3['min']\n",
    "problem_approx_3.pop('min')\n",
    "net_coeff_approx_3 = np.array(list(problem_approx_3.values()))"
   ]
  },
  {
   "cell_type": "code",
   "execution_count": 81,
   "metadata": {},
   "outputs": [
    {
     "name": "stdout",
     "output_type": "stream",
     "text": [
      "El valor objetivo obtenido con scipy es:  489.99999837231917\n",
      "El valor aproximado obtenido con mex es:  490.0\n"
     ]
    }
   ],
   "source": [
    "print(\"El valor objetivo obtenido con scipy es: \", net_obj_3)\n",
    "print(\"El valor aproximado obtenido con mex es: \", net_approx_3)"
   ]
  },
  {
   "cell_type": "code",
   "execution_count": 82,
   "metadata": {},
   "outputs": [
    {
     "name": "stdout",
     "output_type": "stream",
     "text": [
      "Los coeficientes objetivos obtenidos con scipy son:  [ 0. 40. 10. 40. 80.  0. 20.]\n",
      "Los coeficientes aproximados obtenidos con mex son:  [ 0. 40. 10. 40. 80.  0. 20.]\n"
     ]
    }
   ],
   "source": [
    "print(\"Los coeficientes objetivos obtenidos con scipy son: \", np.round(net_coeff_obj_3))\n",
    "print(\"Los coeficientes aproximados obtenidos con mex son: \", net_coeff_approx_3)"
   ]
  },
  {
   "cell_type": "code",
   "execution_count": 83,
   "metadata": {
    "tags": [
     "block:asserts_3",
     "prev:min_coeff_approx_3",
     "prev:obtener_coeff_scipy_3"
    ]
   },
   "outputs": [],
   "source": [
    "assert net_obj_3 == approx(net_approx_3), \"El valor aproximado es incorrecto\"\n",
    "assert np.round(net_coeff_obj_3,0) == approx(net_coeff_approx_3), \"El valor de los coeficientes aproximados es incorrecto\""
   ]
  }
 ],
 "metadata": {
  "kernelspec": {
   "display_name": "Python 3",
   "language": "python",
   "name": "python3"
  },
  "kubeflow_notebook": {
   "autosnapshot": false,
   "docker_image": "caroacostatovany/optimizacion-2-practica-2-parte-1:0.1",
   "experiment": {
    "id": "",
    "name": ""
   },
   "experiment_name": "",
   "katib_metadata": {
    "algorithm": {
     "algorithmName": "grid"
    },
    "maxFailedTrialCount": 3,
    "maxTrialCount": 12,
    "objective": {
     "objectiveMetricName": "",
     "type": "minimize"
    },
    "parallelTrialCount": 3,
    "parameters": []
   },
   "katib_run": false,
   "pipeline_description": "reporte-mex",
   "pipeline_name": "reporte-mex",
   "snapshot_volumes": false,
   "steps_defaults": [],
   "volume_access_mode": "rwm",
   "volumes": [
    {
     "annotations": [],
     "mount_point": "/shared_volume/",
     "name": "hostpath-pvc",
     "size": 1,
     "size_type": "Gi",
     "snapshot": false,
     "snapshot_name": "",
     "type": "pvc"
    }
   ]
  },
  "language_info": {
   "codemirror_mode": {
    "name": "ipython",
    "version": 3
   },
   "file_extension": ".py",
   "mimetype": "text/x-python",
   "name": "python",
   "nbconvert_exporter": "python",
   "pygments_lexer": "ipython3",
   "version": "3.6.9"
  }
 },
 "nbformat": 4,
 "nbformat_minor": 4
}
