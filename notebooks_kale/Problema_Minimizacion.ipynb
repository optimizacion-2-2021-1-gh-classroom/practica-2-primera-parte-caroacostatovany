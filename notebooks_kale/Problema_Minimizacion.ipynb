{
 "cells": [
  {
   "cell_type": "code",
   "execution_count": 1,
   "metadata": {
    "tags": [
     "imports"
    ]
   },
   "outputs": [],
   "source": [
    "import copy\n",
    "import matplotlib.pyplot as plt\n",
    "import networkx as nx\n",
    "import numpy as np\n",
    "import os\n",
    "import pprint\n",
    "from scipy.optimize import linprog\n",
    "from pytest import approx\n",
    "\n",
    "from mex.simplex.simplex_networks import create_matrix, pivots_col, pivots_row, find_negative_col, find_negative_row, find_pivot_col, find_pivot_row, pivot\n",
    "from mex.simplex.problem_definition import add_cons, constrain, add_obj, obj, maxz, minz"
   ]
  },
  {
   "cell_type": "markdown",
   "metadata": {
    "tags": []
   },
   "source": [
    "## Problema prototipo:"
   ]
  },
  {
   "cell_type": "markdown",
   "metadata": {
    "tags": []
   },
   "source": [
    "$$\\min_{x \\in \\mathbb{R}^2} -1x_1 + -3x_2$$\n",
    "\n",
    "$$\\text{sujeto a: }$$\n",
    "$$x_1 + x_2 \\leq 6$$\n",
    "$$-x_1 + 2x_2 \\leq 8$$\n",
    "$$x_1 \\geq 0, x_2 \\geq 0$$"
   ]
  },
  {
   "cell_type": "markdown",
   "metadata": {
    "tags": []
   },
   "source": [
    "## Resolvemos con scipy"
   ]
  },
  {
   "cell_type": "code",
   "execution_count": 2,
   "metadata": {
    "tags": [
     "block:definir_valores"
    ]
   },
   "outputs": [],
   "source": [
    "c_min_obj = [-1, -3]\n",
    "A_min_obj = [[1, 1], [-1, 2]]\n",
    "b_min_obj = [6, 8]"
   ]
  },
  {
   "cell_type": "code",
   "execution_count": 3,
   "metadata": {
    "tags": [
     "block:funcion_min",
     "prev:definir_valores"
    ]
   },
   "outputs": [],
   "source": [
    "min_obj = linprog(c_min_obj, A_ub = A_min_obj, b_ub = b_min_obj).fun"
   ]
  },
  {
   "cell_type": "code",
   "execution_count": 4,
   "metadata": {
    "tags": [
     "block:obtener_coeff_scipy",
     "prev:funcion_min"
    ]
   },
   "outputs": [],
   "source": [
    "coeff_obj = linprog(c_min_obj, A_ub = A_min_obj, b_ub = b_min_obj).x"
   ]
  },
  {
   "cell_type": "markdown",
   "metadata": {
    "tags": []
   },
   "source": [
    "## Resolvemos con nuestro paquete"
   ]
  },
  {
   "cell_type": "code",
   "execution_count": 5,
   "metadata": {
    "tags": [
     "block:def_valores"
    ]
   },
   "outputs": [],
   "source": [
    "n_var_approx = 2\n",
    "n_cons_approx = 2"
   ]
  },
  {
   "cell_type": "code",
   "execution_count": 6,
   "metadata": {
    "tags": [
     "block:crear_matriz",
     "prev:def_valores"
    ]
   },
   "outputs": [],
   "source": [
    "matrix_min_approx = create_matrix(n_var_approx,n_cons_approx)"
   ]
  },
  {
   "cell_type": "code",
   "execution_count": 7,
   "metadata": {
    "tags": [
     "block:limitaciones_obj",
     "prev:crear_matriz"
    ]
   },
   "outputs": [],
   "source": [
    "constrain(matrix_min_approx,'1,1,L,6')\n",
    "constrain(matrix_min_approx,'-1,2,L,8')\n",
    "obj(matrix_min_approx,'-1,-3,0')"
   ]
  },
  {
   "cell_type": "code",
   "execution_count": 8,
   "metadata": {
    "tags": [
     "block:definir_problema",
     "prev:limitaciones_obj"
    ]
   },
   "outputs": [],
   "source": [
    "problem_approx = minz(matrix_min_approx)"
   ]
  },
  {
   "cell_type": "code",
   "execution_count": 9,
   "metadata": {
    "tags": [
     "block:min_coeff_approx",
     "prev:definir_problema"
    ]
   },
   "outputs": [],
   "source": [
    "min_approx = problem_approx['min']\n",
    "problem_approx.pop('min')\n",
    "coeff_approx = np.array(list(problem_approx.values()))"
   ]
  },
  {
   "cell_type": "code",
   "execution_count": 10,
   "metadata": {
    "tags": [
     "block:asserts",
     "prev:min_coeff_approx",
     "prev:obtener_coeff_scipy"
    ]
   },
   "outputs": [],
   "source": [
    "assert min_approx == approx(min_obj)\n",
    "assert coeff_obj == approx(coeff_approx)"
   ]
  },
  {
   "cell_type": "code",
   "execution_count": 11,
   "metadata": {},
   "outputs": [
    {
     "data": {
      "text/plain": [
       "-15.333333333333332"
      ]
     },
     "execution_count": 11,
     "metadata": {},
     "output_type": "execute_result"
    }
   ],
   "source": [
    "min_approx"
   ]
  },
  {
   "cell_type": "code",
   "execution_count": 12,
   "metadata": {},
   "outputs": [
    {
     "data": {
      "text/plain": [
       "-15.333333333015998"
      ]
     },
     "execution_count": 12,
     "metadata": {},
     "output_type": "execute_result"
    }
   ],
   "source": [
    "min_obj"
   ]
  },
  {
   "cell_type": "code",
   "execution_count": null,
   "metadata": {},
   "outputs": [],
   "source": []
  }
 ],
 "metadata": {
  "kernelspec": {
   "display_name": "Python 3",
   "language": "python",
   "name": "python3"
  },
  "kubeflow_notebook": {
   "autosnapshot": false,
   "docker_image": "caroacostatovany/optimizacion-2-practica-2-parte-1:0.1",
   "experiment": {
    "id": "49eef961-7515-4425-9a35-f9b489b801c6",
    "name": "Default"
   },
   "experiment_name": "Default",
   "katib_metadata": {
    "algorithm": {
     "algorithmName": "grid"
    },
    "maxFailedTrialCount": 3,
    "maxTrialCount": 12,
    "objective": {
     "objectiveMetricName": "",
     "type": "minimize"
    },
    "parallelTrialCount": 3,
    "parameters": []
   },
   "katib_run": false,
   "pipeline_description": "mex package 01",
   "pipeline_name": "mex-min-01",
   "snapshot_volumes": false,
   "steps_defaults": [],
   "volume_access_mode": "rwm",
   "volumes": [
    {
     "annotations": [],
     "mount_point": "/shared_volume/",
     "name": "hostpath-pvc",
     "size": 1,
     "size_type": "Gi",
     "snapshot": false,
     "snapshot_name": "",
     "type": "pvc"
    }
   ]
  },
  "language_info": {
   "codemirror_mode": {
    "name": "ipython",
    "version": 3
   },
   "file_extension": ".py",
   "mimetype": "text/x-python",
   "name": "python",
   "nbconvert_exporter": "python",
   "pygments_lexer": "ipython3",
   "version": "3.6.9"
  }
 },
 "nbformat": 4,
 "nbformat_minor": 4
}
