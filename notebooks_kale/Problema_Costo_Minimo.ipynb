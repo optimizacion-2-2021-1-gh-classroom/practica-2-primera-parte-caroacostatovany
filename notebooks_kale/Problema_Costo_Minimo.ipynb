{
 "cells": [
  {
   "cell_type": "code",
   "execution_count": 1,
   "metadata": {
    "tags": [
     "imports"
    ]
   },
   "outputs": [],
   "source": [
    "import copy\n",
    "import matplotlib.pyplot as plt\n",
    "import networkx as nx\n",
    "import numpy as np\n",
    "import os\n",
    "import pprint\n",
    "from scipy.optimize import linprog\n",
    "from pytest import approx\n",
    "\n",
    "from mex.simplex.simplex_networks import create_matrix, pivots_col, pivots_row, find_negative_col, find_negative_row, find_pivot_col, find_pivot_row, pivot\n",
    "from mex.simplex.problem_definition import add_cons, constrain, add_obj, obj, maxz, minz"
   ]
  },
  {
   "cell_type": "markdown",
   "metadata": {
    "tags": []
   },
   "source": [
    "## Problema prototipo:"
   ]
  },
  {
   "cell_type": "markdown",
   "metadata": {
    "tags": []
   },
   "source": [
    "$$\\min_{x \\in \\mathbb{R}^2} 2x_1 + 4x_2 + 9x_3 + 3x_4 + x_5 + 3x_6 + 2x_7$$\n",
    "\n",
    "$$\\text{sujeto a: }$$\n",
    "$$ x_1 \\leq 10 $$\n",
    "$$ x_5 \\leq 80 $$\n",
    "$$ x_1 + x_2 + x_3 = 50$$\n",
    "$$ -x_1 + x_4 = 40 $$\n",
    "$$ -x_2 - x_4 + x_5 = 0 $$\n",
    "$$ -x_3 + x_6 - x_7 = -30 $$\n",
    "$$ -x_5 - x_6 + x_7 = -60$$"
   ]
  },
  {
   "cell_type": "markdown",
   "metadata": {
    "tags": []
   },
   "source": [
    "## Resolvemos con scipy"
   ]
  },
  {
   "cell_type": "code",
   "execution_count": 2,
   "metadata": {
    "tags": [
     "block:definir_valores"
    ]
   },
   "outputs": [],
   "source": [
    "c_net_obj = [2,4,9,3,1,3,2]\n",
    "A_ub_net_obj = [[1,0,0,0,0,0,0],\n",
    "            [0,0,0,0,1,0,0]]\n",
    "b_ub_net_obj = [10,80]\n",
    "A_eq_net_obj = [[1,1,1,0,0,0,0],\n",
    "         [-1,0,0,1,0,0,0],\n",
    "         [0,-1,0,-1,1,0,0],\n",
    "         [0,0,-1,0,0,1,-1],\n",
    "         [0,0,0,0,-1,-1,1]]\n",
    "b_eq_net_obj = [50,40,0,-30,-60]"
   ]
  },
  {
   "cell_type": "code",
   "execution_count": 3,
   "metadata": {
    "tags": [
     "block:funcion_min",
     "prev:definir_valores"
    ]
   },
   "outputs": [
    {
     "name": "stderr",
     "output_type": "stream",
     "text": [
      "/usr/local/lib/python3.6/dist-packages/ipykernel_launcher.py:1: OptimizeWarning: A_eq does not appear to be of full row rank. To improve performance, check the problem formulation for redundant equality constraints.\n",
      "  \"\"\"Entry point for launching an IPython kernel.\n"
     ]
    }
   ],
   "source": [
    "net_obj = linprog(c_net_obj, A_ub=A_ub_net_obj, b_ub=b_ub_net_obj, A_eq=A_eq_net_obj, b_eq=b_eq_net_obj).fun"
   ]
  },
  {
   "cell_type": "code",
   "execution_count": 4,
   "metadata": {
    "tags": [
     "block:obtener_coeff_scipy",
     "prev:funcion_min"
    ]
   },
   "outputs": [
    {
     "name": "stderr",
     "output_type": "stream",
     "text": [
      "/usr/local/lib/python3.6/dist-packages/ipykernel_launcher.py:1: OptimizeWarning: A_eq does not appear to be of full row rank. To improve performance, check the problem formulation for redundant equality constraints.\n",
      "  \"\"\"Entry point for launching an IPython kernel.\n"
     ]
    }
   ],
   "source": [
    "net_coeff_obj = linprog(c_net_obj, A_ub=A_ub_net_obj, b_ub=b_ub_net_obj, A_eq=A_eq_net_obj, b_eq=b_eq_net_obj).x"
   ]
  },
  {
   "cell_type": "markdown",
   "metadata": {
    "tags": []
   },
   "source": [
    "## Resolvemos con nuestro paquete"
   ]
  },
  {
   "cell_type": "code",
   "execution_count": 5,
   "metadata": {
    "tags": [
     "block:def_valores"
    ]
   },
   "outputs": [],
   "source": [
    "n_var_approx = 7\n",
    "n_cons_approx = 7"
   ]
  },
  {
   "cell_type": "code",
   "execution_count": 6,
   "metadata": {
    "tags": [
     "block:crear_matriz",
     "prev:def_valores"
    ]
   },
   "outputs": [],
   "source": [
    "matrix_net_approx = create_matrix(n_var_approx,n_cons_approx)"
   ]
  },
  {
   "cell_type": "code",
   "execution_count": 7,
   "metadata": {
    "tags": [
     "block:limitaciones_obj",
     "prev:crear_matriz"
    ]
   },
   "outputs": [],
   "source": [
    "constrain(matrix_net_approx,'1,1,1,0,0,0,0,E,50')\n",
    "constrain(matrix_net_approx,'-1,0,0,1,0,0,0,E,40')\n",
    "constrain(matrix_net_approx,'0,-1,0,-1,1,0,0,E,0')\n",
    "constrain(matrix_net_approx,'0,0,-1,0,0,1,-1,E,-30')\n",
    "constrain(matrix_net_approx,'0,0,0,0,-1,-1,1,E,-60')\n",
    "constrain(matrix_net_approx,'1,0,0,0,0,0,0,L,10')\n",
    "constrain(matrix_net_approx,'0,0,0,0,1,0,0,L,80')\n",
    "obj(matrix_net_approx,'2,4,9,3,1,3,2,0')"
   ]
  },
  {
   "cell_type": "code",
   "execution_count": 8,
   "metadata": {
    "tags": [
     "block:definir_problema",
     "prev:limitaciones_obj"
    ]
   },
   "outputs": [],
   "source": [
    "problem_approx = minz(matrix_net_approx)"
   ]
  },
  {
   "cell_type": "code",
   "execution_count": 9,
   "metadata": {
    "tags": [
     "block:min_coeff_approx",
     "prev:definir_problema"
    ]
   },
   "outputs": [],
   "source": [
    "net_approx = problem_approx['min']\n",
    "problem_approx.pop('min')\n",
    "net_coeff_approx = np.array(list(problem_approx.values()))"
   ]
  },
  {
   "cell_type": "code",
   "execution_count": 10,
   "metadata": {
    "tags": [
     "block:asserts",
     "prev:min_coeff_approx",
     "prev:obtener_coeff_scipy"
    ]
   },
   "outputs": [],
   "source": [
    "assert net_obj == approx(net_approx)\n",
    "assert np.round(net_coeff_obj,0) == approx(net_coeff_approx)"
   ]
  }
 ],
 "metadata": {
  "kernelspec": {
   "display_name": "Python 3",
   "language": "python",
   "name": "python3"
  },
  "kubeflow_notebook": {
   "autosnapshot": false,
   "docker_image": "caroacostatovany/optimizacion-2-practica-2-parte-1:0.1",
   "experiment": {
    "id": "49eef961-7515-4425-9a35-f9b489b801c6",
    "name": "Default"
   },
   "experiment_name": "Default",
   "katib_metadata": {
    "algorithm": {
     "algorithmName": "grid"
    },
    "maxFailedTrialCount": 3,
    "maxTrialCount": 12,
    "objective": {
     "objectiveMetricName": "",
     "type": "minimize"
    },
    "parallelTrialCount": 3,
    "parameters": []
   },
   "katib_run": false,
   "pipeline_description": "mex package 01",
   "pipeline_name": "mex-costo-02",
   "snapshot_volumes": false,
   "steps_defaults": [],
   "volume_access_mode": "rwm",
   "volumes": [
    {
     "annotations": [],
     "mount_point": "/shared_volume/",
     "name": "hostpath-pvc",
     "size": 1,
     "size_type": "Gi",
     "snapshot": false,
     "snapshot_name": "",
     "type": "pvc"
    }
   ]
  },
  "language_info": {
   "codemirror_mode": {
    "name": "ipython",
    "version": 3
   },
   "file_extension": ".py",
   "mimetype": "text/x-python",
   "name": "python",
   "nbconvert_exporter": "python",
   "pygments_lexer": "ipython3",
   "version": "3.6.9"
  }
 },
 "nbformat": 4,
 "nbformat_minor": 4
}
