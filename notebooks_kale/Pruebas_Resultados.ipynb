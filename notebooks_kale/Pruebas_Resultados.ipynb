{
 "cells": [
  {
   "cell_type": "code",
   "execution_count": 9,
   "metadata": {
    "tags": [
     "imports"
    ]
   },
   "outputs": [],
   "source": [
    "import copy\n",
    "import matplotlib.pyplot as plt\n",
    "import networkx as nx\n",
    "import numpy as np\n",
    "import os\n",
    "import pprint\n",
    "from scipy.optimize import linprog\n",
    "\n",
    "from mex.simplex.simplex_networks import create_matrix, pivots_col, pivots_row, find_negative_col, find_negative_row, find_pivot_col, find_pivot_row, pivot\n",
    "from mex.simplex.problem_definition import add_cons, constrain, add_obj, obj, maxz, minz\n",
    "\n",
    "#os.chdir(\"..\")"
   ]
  },
  {
   "cell_type": "markdown",
   "metadata": {
    "tags": []
   },
   "source": [
    "## Problema prototipo:\n",
    "(De las notas del Libro de Optimización)"
   ]
  },
  {
   "cell_type": "markdown",
   "metadata": {
    "tags": []
   },
   "source": [
    "$$\\max_{x \\in \\mathbb{R}^2} 3x_1 + 5x_2$$\n",
    "\n",
    "$$\\text{sujeto a: }$$\n",
    "$$x_1 \\leq 4$$\n",
    "$$2x_2 \\leq 12$$\n",
    "$$3x_1 + 2x_2 \\leq 18$$\n",
    "$$x_1 \\geq 0, x_2 \\geq 0$$"
   ]
  },
  {
   "cell_type": "markdown",
   "metadata": {
    "tags": []
   },
   "source": [
    "### Resolviendo con nuestro paquete:"
   ]
  },
  {
   "cell_type": "code",
   "execution_count": 2,
   "metadata": {
    "tags": [
     "block:set_values_1"
    ]
   },
   "outputs": [],
   "source": [
    "n_var_proto = 2\n",
    "n_cons_proto = 3"
   ]
  },
  {
   "cell_type": "code",
   "execution_count": 3,
   "metadata": {
    "tags": [
     "block:set_values_2",
     "prev:set_values_1"
    ]
   },
   "outputs": [],
   "source": [
    "proto = create_matrix(n_var_proto, n_cons_proto)\n",
    "constrain(proto,'1,0,L,4')\n",
    "constrain(proto,'0,2,L,12')\n",
    "constrain(proto,'3,2,L,18')"
   ]
  },
  {
   "cell_type": "code",
   "execution_count": 4,
   "metadata": {
    "tags": [
     "block:mex_solve",
     "prev:set_values_2"
    ]
   },
   "outputs": [
    {
     "name": "stdout",
     "output_type": "stream",
     "text": [
      "[[ 1.  0.  1.  0.  0.  0.  4.]\n",
      " [ 0.  2.  0.  1.  0.  0. 12.]\n",
      " [ 3.  2.  0.  0.  1.  0. 18.]\n",
      " [-3. -5.  0.  0.  0.  1.  0.]]\n",
      "{'x1': 2.0, 'x2': 6.0, 'max': 36.0}\n"
     ]
    }
   ],
   "source": [
    "obj(proto,'3,5,0')\n",
    "print(proto)\n",
    "print(maxz(proto))"
   ]
  },
  {
   "cell_type": "markdown",
   "metadata": {
    "tags": []
   },
   "source": [
    "### Resolviendo con `linprog` del paquete **`scipy`**:"
   ]
  },
  {
   "cell_type": "code",
   "execution_count": 5,
   "metadata": {
    "tags": [
     "skip"
    ]
   },
   "outputs": [
    {
     "name": "stdout",
     "output_type": "stream",
     "text": [
      "     con: array([], dtype=float64)\n",
      "     fun: -35.99999997843391\n",
      " message: 'Optimization terminated successfully.'\n",
      "     nit: 4\n",
      "   slack: array([2.00000000e+00, 8.66118377e-09, 8.57431459e-09])\n",
      "  status: 0\n",
      " success: True\n",
      "       x: array([2., 6.])\n"
     ]
    }
   ],
   "source": [
    "c_proto = [-3, -5]\n",
    "A_proto = [[1, 0], [0, 2], [3, 2]]\n",
    "b_proto = [4, 12, 18]\n",
    "res_proto = linprog(c_proto, A_ub = A_proto, b_ub = b_proto)\n",
    "print(res_proto)"
   ]
  },
  {
   "cell_type": "markdown",
   "metadata": {
    "tags": []
   },
   "source": [
    "Podemos ver que se obtienen los mismo resultados (x1 = 2, x2 = 6), valor máximo de la función de 36, utilizando ambos paquetes.\n",
    "\n",
    "**Nota:**  La función `linprog` sólo resuelve problemas de minimización, por lo que se multiplica por -1 la función objetivo, obteniendo el valor mínimo de -36, que coincide con el máximo que buscamos en éste caso."
   ]
  },
  {
   "cell_type": "markdown",
   "metadata": {
    "tags": []
   },
   "source": [
    "## Ejemplo del lema de Farkas:\n",
    "(De las notas del Libro de Optimización)"
   ]
  },
  {
   "cell_type": "markdown",
   "metadata": {
    "tags": []
   },
   "source": [
    "$$ \\min_{x \\in \\mathbb{R}^2} -x_1 -3x_2$$\n",
    "\n",
    "$$\\text{sujeto a: }$$\n",
    "$$x_1 + x_2 \\leq 6$$\n",
    "$$-x_1 + 2x_2 \\leq 8$$\n",
    "$$x_1 \\geq 0, x_2 \\geq 0$$"
   ]
  },
  {
   "cell_type": "markdown",
   "metadata": {
    "tags": []
   },
   "source": [
    "### Resolviendo con nuestro paquete:"
   ]
  },
  {
   "cell_type": "code",
   "execution_count": 6,
   "metadata": {
    "tags": [
     "skip"
    ]
   },
   "outputs": [],
   "source": [
    "n_var_farkas = 2\n",
    "n_cons_farkas = 2"
   ]
  },
  {
   "cell_type": "code",
   "execution_count": 7,
   "metadata": {
    "tags": [
     "skip"
    ]
   },
   "outputs": [
    {
     "name": "stdout",
     "output_type": "stream",
     "text": [
      "[[ 1.  1.  1.  0.  0.  6.]\n",
      " [-1.  2.  0.  1.  0.  8.]\n",
      " [ 1.  3.  0.  0.  1.  0.]]\n",
      "{'x1': 1.3333333333333333, 'x2': 4.666666666666667, 'min': -15.333333333333332}\n"
     ]
    }
   ],
   "source": [
    "farkas = create_matrix(n_var_farkas, n_cons_farkas)\n",
    "constrain(farkas,'1,1,L,6')\n",
    "constrain(farkas,'-1,2,L,8')\n",
    "obj(farkas,'-1,-3,0')\n",
    "print(farkas)\n",
    "print(minz(farkas))"
   ]
  },
  {
   "cell_type": "markdown",
   "metadata": {
    "tags": []
   },
   "source": [
    "### Resolviendo con `linprog` del paquete **`scipy`**:"
   ]
  },
  {
   "cell_type": "code",
   "execution_count": 8,
   "metadata": {
    "tags": [
     "skip"
    ]
   },
   "outputs": [
    {
     "name": "stdout",
     "output_type": "stream",
     "text": [
      "     con: array([], dtype=float64)\n",
      "     fun: -15.333333333015998\n",
      " message: 'Optimization terminated successfully.'\n",
      "     nit: 4\n",
      "   slack: array([1.31729294e-10, 1.46679113e-10])\n",
      "  status: 0\n",
      " success: True\n",
      "       x: array([1.33333333, 4.66666667])\n"
     ]
    }
   ],
   "source": [
    "c_farkas = [-1, -3]\n",
    "A_farkas = [[1, 1], [-1, 2]]\n",
    "b_farkas = [6, 8]\n",
    "res_farkas = linprog(c_farkas, A_ub = A_farkas, b_ub = b_farkas)\n",
    "print(res_farkas)"
   ]
  },
  {
   "cell_type": "markdown",
   "metadata": {
    "tags": []
   },
   "source": [
    "Podemos ver que se obtienen los mismo resultados (x1 = 1.3333, x2 = 4.6667, valor de la función objetivo -15.33) utilizando ambos paquetes."
   ]
  },
  {
   "cell_type": "markdown",
   "metadata": {
    "tags": []
   },
   "source": [
    "## Ejemplo de problema de flujo con costo mínimo:\n",
    "(De las notas del Libro de Optimización)"
   ]
  },
  {
   "cell_type": "markdown",
   "metadata": {
    "tags": []
   },
   "source": [
    "Graficamos la red a solucionar:"
   ]
  },
  {
   "cell_type": "code",
   "execution_count": 11,
   "metadata": {
    "tags": [
     "skip"
    ]
   },
   "outputs": [],
   "source": [
    "def plot_graph_with_edges_trouble_to_visualize(figsize_tuple,\n",
    "                                               G_to_plot, nodes_position,\n",
    "                                               nodes_position_modified,\n",
    "                                               node_labels,\n",
    "                                               string_for_edges_trouble_to_visualize,\n",
    "                                               list_of_edges_trouble_to_visualize):\n",
    "    \"\"\"\n",
    "    Auxiliary function to plot graph that have two nodes with arcs in both directions,\n",
    "    e.g: (A,B) and (B,A).\n",
    "    \"\"\"\n",
    "    if figsize_tuple:\n",
    "        plt.figure(figsize=figsize_tuple)\n",
    "        \n",
    "    nx.draw_networkx_edges(G_to_plot, pos=nodes_position, \n",
    "                           min_target_margin=25, connectionstyle=\"arc3, rad = 0.1\",\n",
    "                           edgelist=G_to_plot.edges())\n",
    "    nx.draw_networkx_edge_labels(G_to_plot, pos=nodes_position, \n",
    "                                 font_size=10)  \n",
    "    nx.draw_networkx_edges(G_to_plot, pos=nodes_position, \n",
    "                           min_target_margin=25, connectionstyle=\"arc3, rad = 0.1\",\n",
    "                           edgelist=list_of_edges_trouble_to_visualize)\n",
    "    \n",
    "    nx.draw_networkx_edge_labels(G_to_plot, pos=nodes_position, \n",
    "                                 edge_labels=string_for_edges_trouble_to_visualize,\n",
    "                                 font_size=10)\n",
    "    nx.draw_networkx_labels(G_to_plot, pos=nodes_position_modified, \n",
    "                            labels=node_labels)\n",
    "    nx.draw_networkx_nodes(G_to_plot, pos=nodes_position, \n",
    "                           node_size=1000)\n",
    "    plt.axis(\"off\")\n",
    "    plt.show()\n",
    "def plot_graph(figsize_tuple, G_to_plot,\n",
    "               nodes_position,\n",
    "               nodes_position_modified,\n",
    "               nodes_labels,\n",
    "               edge_labels):\n",
    "    \"\"\"\n",
    "    Auxiliary function to plot graph with nodes that have edges with one direction.\n",
    "    \"\"\"\n",
    "  \n",
    "    if figsize_tuple:\n",
    "        plt.figure(figsize=figsize_tuple)\n",
    "        \n",
    "    nx.draw_networkx_edges(G_to_plot, pos=nodes_position, \n",
    "                           min_target_margin=25, connectionstyle=\"arc3, rad = 0.1\")\n",
    "    nx.draw_networkx_edge_labels(G_to_plot, pos=nodes_position,\n",
    "                                 edge_labels=edge_labels,\n",
    "                                 font_size=10)  \n",
    "    nx.draw_networkx_labels(G_to_plot, pos=nodes_position_modified,\n",
    "                            labels=nodes_labels)\n",
    "    nx.draw_networkx_nodes(G_to_plot, pos=nodes_position, \n",
    "                           node_size=1000, alpha=0.6)\n",
    "    plt.axis(\"off\")\n",
    "    plt.show()\n",
    "def fill_edge_for_graph_of_upper_bounds(G_to_be_filled, edge_to_be_added, dict_reference):\n",
    "    \"\"\"\n",
    "    Auxiliary function to create metadata of edge thata will be added in graph of upper bounds.\n",
    "    \"\"\"\n",
    "    G_to_be_filled[edge_to_be_added[0]][edge_to_be_added[1]][\"weight\"] = dict_reference[\"weight\"]\n",
    "    G_to_be_filled[edge_to_be_added[0]][edge_to_be_added[1]][\"capacity\"] = dict_reference[\"capacity\"]\n",
    "    G_to_be_filled[edge_to_be_added[0]][edge_to_be_added[1]][\"flow\"] = dict_reference[\"flow\"]\n",
    "def add_edge_to_graph_of_upper_bounds(G_reference, G_simplex_edges_upper_bounds,\n",
    "                                      edge_to_be_added,\n",
    "                                      dict_edge_labels):\n",
    "    \"\"\"\n",
    "    Function that will add an input edge to graph of upper bounds.\n",
    "    \"\"\"\n",
    "    G_simplex_edges_upper_bounds.add_edge(edge_to_be_added[0],\n",
    "                                          edge_to_be_added[1])\n",
    "    dict_edge_labels[edge_to_be_added] = {}\n",
    "    dict_edge_labels[edge_to_be_added][\"weight\"] = G_reference[edge_to_be_added[0]][edge_to_be_added[1]][\"weight\"]\n",
    "    dict_edge_labels[edge_to_be_added][\"capacity\"] = G_reference[edge_to_be_added[0]][edge_to_be_added[1]][\"capacity\"]\n",
    "    dict_edge_labels[edge_to_be_added][\"flow\"] = G_reference[edge_to_be_added[0]][edge_to_be_added[1]][\"capacity\"]\n",
    "    fill_edge_for_graph_of_upper_bounds(G_simplex_edges_upper_bounds,\n",
    "                                        edge_to_be_added, \n",
    "                                        dict_edge_labels[edge_to_be_added])\n",
    "    netflow_node1 = nx.get_node_attributes(G_reference, \"netflow\")[edge_to_be_added[0]]\n",
    "    netflow_node_and_netflow1 = nx.get_node_attributes(G_reference, \"node_and_netflow\")[edge_to_be_added[0]]\n",
    "    netflow_node2 = nx.get_node_attributes(G_reference, \"netflow\")[edge_to_be_added[1]]\n",
    "    netflow_node_and_netflow2 = nx.get_node_attributes(G_reference, \"node_and_netflow\")[edge_to_be_added[1]]\n",
    "    nx.set_node_attributes(G_simplex_edges_upper_bounds, {edge_to_be_added[0]: {\"netflow\": netflow_node1,\n",
    "                                                                                \"node_and_netflow\": netflow_node_and_netflow1},\n",
    "                                                          edge_to_be_added[1]: {\"netflow\": netflow_node2,\n",
    "                                                                                \"node_and_netflow\": netflow_node_and_netflow2}\n",
    "                                                         })\n",
    "    return G_simplex_edges_upper_bounds\n",
    "def plot_graph_with_cycle(figsize_tuple, G_to_plot,\n",
    "                          nodes_position,\n",
    "                          nodes_position_modified,\n",
    "                          nodes_labels,\n",
    "                          edge_labels,\n",
    "                          edge_to_be_added):\n",
    "    \"\"\"\n",
    "    Auxiliary function to plot graph with cycle. The graph have edges with one direction.\n",
    "    \"\"\"\n",
    "    if figsize_tuple:\n",
    "        plt.figure(figsize=figsize_tuple)\n",
    "        \n",
    "    nx.draw_networkx_edges(G_to_plot, pos=nodes_position, \n",
    "                           min_target_margin=25, connectionstyle=\"arc3, rad = 0.1\",\n",
    "                           edgelist=G_to_plot.edges())\n",
    "    nx.draw_networkx_edges(G_to_plot, pos=nodes_and_pos, \n",
    "                           min_target_margin=25, connectionstyle=\"arc3, rad = 0.1\",\n",
    "                           edgelist=[edge_to_be_added],\n",
    "                           width = 2,\n",
    "                           style=\"dashed\")    \n",
    "    \n",
    "    nx.draw_networkx_edge_labels(G_to_plot, pos=nodes_position,\n",
    "                                 edge_labels=edge_labels,\n",
    "                                 font_size=10)  \n",
    "    nx.draw_networkx_labels(G_to_plot, pos=nodes_position_modified,\n",
    "                            labels=nodes_labels)\n",
    "    nx.draw_networkx_nodes(G_to_plot, pos=nodes_position, \n",
    "                           node_size=1000, alpha=0.6)\n",
    "    plt.axis(\"off\")\n",
    "    plt.show()\n",
    "def plot_graph_with_cycle_edges_trouble_to_visualize(figsize_tuple,\n",
    "                                                     G_to_plot,\n",
    "                                                     nodes_position,\n",
    "                                                     nodes_position_modified,\n",
    "                                                     nodes_labels,\n",
    "                                                     edge_labels,\n",
    "                                                     edge_to_be_added,\n",
    "                                                     string_for_edges_trouble_to_visualize\n",
    "                                                     ):\n",
    "    \"\"\"\n",
    "    Auxiliary function to plot graph with cycle. The graph have edges with both directions,\n",
    "    e.g: (A,B) and (B,A).\n",
    "    \"\"\"\n",
    "    if figsize_tuple:\n",
    "        plt.figure(figsize=figsize_tuple)\n",
    "        \n",
    "    nx.draw_networkx_edges(G_to_plot, pos=nodes_position, \n",
    "                           min_target_margin=25, connectionstyle=\"arc3, rad = 0.1\",\n",
    "                           edgelist=G_to_plot.edges())\n",
    "    nx.draw_networkx_edge_labels(G_to_plot, pos=nodes_position,\n",
    "                                 edge_labels=edge_labels,\n",
    "                                 font_size=10)    \n",
    "    nx.draw_networkx_edges(G_to_plot, pos=nodes_and_pos, \n",
    "                           min_target_margin=25, connectionstyle=\"arc3, rad = 0.1\",\n",
    "                           edgelist=[edge_to_be_added],\n",
    "                           width = 2,\n",
    "                           style=\"dashed\")    \n",
    "    nx.draw_networkx_edge_labels(G_to_plot, pos=nodes_position, \n",
    "                                edge_labels=string_for_edges_trouble_to_visualize,\n",
    "                                font_size=10) \n",
    "    nx.draw_networkx_labels(G_to_plot, pos=nodes_position_modified,\n",
    "                            labels=nodes_labels)\n",
    "    nx.draw_networkx_nodes(G_to_plot, pos=nodes_position, \n",
    "                           node_size=1000, alpha=0.6)\n",
    "    plt.axis(\"off\")\n",
    "    plt.show()\n",
    "def add_edge_from_spanning_tree(G_full, G_spanning_tree, edge_to_be_added, edge_labels):\n",
    "    \"\"\"\n",
    "    Function that recieves spanning tree and add an edge to it.\n",
    "    \"\"\"\n",
    "    G_cycle = G_spanning_tree.copy()\n",
    "    G_cycle.add_edge(edge_to_be_added[0], edge_to_be_added[1])\n",
    "    G_cycle[edge_to_be_added[0]][edge_to_be_added[1]][\"weight\"] = G_full[edge_to_be_added[0]][edge_to_be_added[1]][\"weight\"]\n",
    "    G_cycle[edge_to_be_added[0]][edge_to_be_added[1]][\"capacity\"] = G_full[edge_to_be_added[0]][edge_to_be_added[1]][\"capacity\"]\n",
    "    G_cycle[edge_to_be_added[0]][edge_to_be_added[1]][\"flow\"] = \"\"\n",
    "    edge_labels_new = copy.deepcopy(edge_labels)\n",
    "    edge_labels_new[edge_to_be_added] = {}\n",
    "    edge_labels_new[edge_to_be_added][\"weight\"] = G_cycle[edge_to_be_added[0]][edge_to_be_added[1]][\"weight\"]\n",
    "    edge_labels_new[edge_to_be_added][\"capacity\"] = G_cycle[edge_to_be_added[0]][edge_to_be_added[1]][\"capacity\"]\n",
    "    edge_labels_new[edge_to_be_added][\"flow\"] = G_cycle[edge_to_be_added[0]][edge_to_be_added[1]][\"flow\"]\n",
    "    return (G_cycle, edge_labels_new)\n",
    "def edge_label_change_for_basic_edge_subs(c_d, edge_labels_reference, edge_to_be_added):\n",
    "    \"\"\"\n",
    "    Function that change labels of edges that are in a cycle after adding edge to \n",
    "    spanning tree and will be augmented their flow.\n",
    "    \"\"\"\n",
    "    edge_labels_with_flow_change = {}\n",
    "    edge_labels_with_flow_change = copy.deepcopy(edge_labels_reference)\n",
    "    for e in edge_labels_with_flow_change.keys():\n",
    "        if e in c_d.keys():\n",
    "            if e != edge_to_be_added:\n",
    "                if c_d[e] == \"forward\":\n",
    "                    edge_labels_with_flow_change[e][\"flow\"] = \"\".join([str(edge_labels_with_flow_change[e][\"flow\"]),\n",
    "                                                                           \"+ $flow^+$\"])\n",
    "                    edge_labels_with_flow_change[e][\"bool\"] = \"+\" \n",
    "                else:\n",
    "                    edge_labels_with_flow_change[e][\"flow\"] = \"\".join([str(edge_labels_with_flow_change[e][\"flow\"]),\n",
    "                                                                           \"- $flow^+$\"])\n",
    "                    edge_labels_with_flow_change[e][\"bool\"] = \"-\"\n",
    "            else:\n",
    "                edge_labels_with_flow_change[e][\"flow\"] = \"\".join([str(edge_labels_with_flow_change[e][\"flow\"]),\n",
    "                                                                       \"$flow^+$\"]) \n",
    "        else:\n",
    "            edge_labels_with_flow_change[e][\"bool\"] = 0 \n",
    "    return edge_labels_with_flow_change\n",
    "def get_spanning_tree_from_spanning_tree_reference(G_spanning_tree_reference, \n",
    "                                                   edge_to_remove,\n",
    "                                                   edge_to_add):\n",
    "    \"\"\"\n",
    "    Function that output new spanning tree from a reference spanning tree. \n",
    "    Removes edge an add new edge to reference spanning tree.\n",
    "    \"\"\"\n",
    "    G_spanning_tree = G_spanning_tree_reference.copy()\n",
    "    G_spanning_tree.remove_edge(edge_to_remove[0], edge_to_remove[1])\n",
    "    G_spanning_tree.add_edge(edge_to_add[0], edge_to_add[1])\n",
    "\n",
    "    return G_spanning_tree\n",
    "def increase_flow_from_edge_labels_with_flow_change(G_reference,\n",
    "                                                    G_spanning_tree_reference,\n",
    "                                                    G_spanning_tree,\n",
    "                                                    edge_to_add,\n",
    "                                                    edge_labels_with_flow_change):\n",
    "    \"\"\"\n",
    "    Function that increases and decreases flow for each edge that are in a cycle.\n",
    "    \"\"\"\n",
    "    \n",
    "    list_edges_spanning_tree = G_spanning_tree.edges()\n",
    "    edge_labels_spanning_tree = {}\n",
    "    \n",
    "    for e in list_edges_spanning_tree:\n",
    "        if e != edge_to_add:\n",
    "            edge_labels_spanning_tree[e] = copy.deepcopy(G_spanning_tree_reference[e[0]][e[1]])\n",
    "            if edge_labels_with_flow_change[e][\"bool\"] == \"+\":\n",
    "                edge_labels_spanning_tree[e][\"flow\"] = edge_labels_spanning_tree[e][\"flow\"] + flow_plus\n",
    "            else:\n",
    "                if edge_labels_with_flow_change[e][\"bool\"] == \"-\":\n",
    "                    edge_labels_spanning_tree[e][\"flow\"] = edge_labels_spanning_tree[e][\"flow\"] - flow_plus\n",
    "                else:\n",
    "                    edge_labels_spanning_tree[e][\"flow\"] = edge_labels_spanning_tree[e][\"flow\"]\n",
    "    \n",
    "        if e == edge_to_add:\n",
    "            edge_labels_spanning_tree[e] = {}\n",
    "            edge_labels_spanning_tree[e][\"weight\"] = G_reference[edge_to_add[0]][edge_to_add[1]][\"weight\"]\n",
    "            edge_labels_spanning_tree[e][\"capacity\"] = G_reference[edge_to_add[0]][edge_to_add[1]][\"capacity\"]\n",
    "            edge_labels_spanning_tree[e][\"flow\"] = flow_plus \n",
    "            \n",
    "    \n",
    "    for e in G_spanning_tree.edges():\n",
    "        G_spanning_tree[e[0]][e[1]][\"flow\"] = edge_labels_spanning_tree[e][\"flow\"]\n",
    "        if e==edge_to_add:\n",
    "            G_spanning_tree[e[0]][e[1]][\"weight\"] = edge_labels_spanning_tree[e][\"weight\"]\n",
    "            G_spanning_tree[e[0]][e[1]][\"capacity\"] = edge_labels_spanning_tree[e][\"capacity\"]    \n",
    "    \n",
    "    return (G_spanning_tree, edge_labels_spanning_tree)\n",
    "def fix_orientation(c_d, edge):\n",
    "    \"\"\"\n",
    "    Auxiliary function that changes orientation acoording to direction of edge.\n",
    "    \"\"\"\n",
    "    if c_d[edge] == \"reverse\":\n",
    "        for k,v in c_d.items():\n",
    "            if c_d[k] == \"forward\":\n",
    "                c_d[k] = \"reverse\"\n",
    "            else:\n",
    "                c_d[k] = \"forward\"\n",
    "def compute_cost_for_unit_increment(c_d, e_w_d):\n",
    "    \"\"\"\n",
    "    Function that computes unit cost per increment.\n",
    "    \"\"\"\n",
    "    m_number_of_edges_simplex_cycle = len(e_w_d)\n",
    "    weights_array = np.zeros(m_number_of_edges_simplex_cycle)\n",
    "    for j,k in enumerate(c_d.keys()):\n",
    "        if c_d[k] == \"forward\":\n",
    "            weights_array[j] = e_w_d[k]\n",
    "        else:\n",
    "            weights_array[j] = -1*e_w_d[k]\n",
    "    return weights_array\n",
    "def get_new_network_after_upper_bound_technique(G_reference, edge_to_be_removed,\n",
    "                                                edge_to_be_added):\n",
    "    \"\"\"\n",
    "    Function that output new network after upper bound technique.\n",
    "    \"\"\"\n",
    "    G_new = G_reference.copy()\n",
    "    G_new.remove_edge(edge_to_be_removed[0], edge_to_be_removed[1])\n",
    "    G_new.add_edge(edge_to_be_added[0], edge_to_be_added[1])\n",
    "    list_edges_new = G_new.edges()\n",
    "    value_for_netflow_change = G_reference[edge_to_be_removed[0]][edge_to_be_removed[1]][\"capacity\"]\n",
    "    \n",
    "    edge_labels_reference = G_reference.edges()\n",
    "    edge_labels_new = {}\n",
    "    \n",
    "    for e in list_edges_new:\n",
    "        if e != edge_to_be_added:\n",
    "            edge_labels_new[e] = copy.deepcopy(edge_labels_reference[e])\n",
    "        else:\n",
    "            edge_labels_new[e] = {}\n",
    "            edge_labels_new[e][\"weight\"] = - G_reference[edge_to_be_removed[0]][edge_to_be_removed[1]][\"weight\"]\n",
    "            edge_labels_new[e][\"capacity\"] = G_reference[edge_to_be_removed[0]][edge_to_be_removed[1]][\"capacity\"]\n",
    "    \n",
    "    \n",
    "    G_new[edge_to_be_added[0]][edge_to_be_added[1]][\"weight\"] =   edge_labels_new[edge_to_be_added][\"weight\"]\n",
    "    G_new[edge_to_be_added[0]][edge_to_be_added[1]][\"capacity\"] = edge_labels_new[edge_to_be_added][\"capacity\"]\n",
    "    \n",
    "    new_netflow_1 = value_for_netflow_change + nx.get_node_attributes(G_reference, \"netflow\")[edge_to_be_added[0]]\n",
    "    new_netflow_2 = nx.get_node_attributes(G_reference, \"netflow\")[edge_to_be_added[1]]- value_for_netflow_change\n",
    "    \n",
    "    node_and_netflow_1 = \"\".join([str(edge_to_be_added[0]), '[', str(new_netflow_1),']'])\n",
    "    node_and_netflow_2 = \"\".join([str(edge_to_be_added[1]), '[', str(new_netflow_2),']'])\n",
    "    \n",
    "    nx.set_node_attributes(G_new, {edge_to_be_added[0]: {\"netflow\": new_netflow_1,\n",
    "                                                         \"node_and_netflow\": node_and_netflow_1},\n",
    "                                        edge_to_be_added[1]: {\"netflow\": new_netflow_2,\n",
    "                                                              \"node_and_netflow\": node_and_netflow_2}\n",
    "                                    })\n",
    "    return (G_new, edge_labels_new)\n",
    "def update_netflows_after_upper_bound_technique(G,\n",
    "                                                value_for_netflow_change,\n",
    "                                                edge_of_nodes_that_will_change_netflow):\n",
    "    \"\"\"\n",
    "    Function that update netflows of each node after upper bound technique.\n",
    "    \"\"\"\n",
    "    new_netflow_1 = value_for_netflow_change + nx.get_node_attributes(G, \"netflow\")[edge_of_nodes_that_will_change_netflow[1]]\n",
    "    new_netflow_2 = nx.get_node_attributes(G, \"netflow\")[edge_of_nodes_that_will_change_netflow[0]]- value_for_netflow_change\n",
    "    \n",
    "    new_node_and_netflow_1 = \"\".join([str(edge_of_nodes_that_will_change_netflow[1]), '[', str(new_netflow_1),']'])\n",
    "    new_node_and_netflow_2 = \"\".join([str(edge_of_nodes_that_will_change_netflow[0]), '[', str(new_netflow_2),']'])\n",
    "    nx.set_node_attributes(G, {edge_of_nodes_that_will_change_netflow[1]: {\"netflow\": new_netflow_1,\n",
    "                                                                           \"node_and_netflow\": new_node_and_netflow_1},\n",
    "                               edge_of_nodes_that_will_change_netflow[0]: {\"netflow\": new_netflow_2,\n",
    "                                                                           \"node_and_netflow\": new_node_and_netflow_2}\n",
    "                               }) "
   ]
  },
  {
   "cell_type": "code",
   "execution_count": 12,
   "metadata": {
    "tags": [
     "skip"
    ]
   },
   "outputs": [
    {
     "data": {
      "image/png": "[encoded data removed]",
      "text/plain": [
       "<Figure size 648x648 with 1 Axes>"
      ]
     },
     "metadata": {},
     "output_type": "display_data"
    }
   ],
   "source": [
    "nodes_pos = [[0.18181818181818182, 0.7272727272727273],\n",
    "             [0.18181818181818182, 0.2727272727272727],\n",
    "             [0.5454545454545454, 0.2727272727272727],\n",
    "             [0.5454545454545454, 0.7272727272727273],\n",
    "             [0.36363636363636365, 0.5454545454545454]]\n",
    "\n",
    "nodes = ['A', 'B', 'E', 'D', 'C']\n",
    "\n",
    "nodes_and_pos = dict(zip(nodes, nodes_pos))\n",
    "\n",
    "G_min_cost_flow = nx.DiGraph()\n",
    "\n",
    "G_min_cost_flow.add_node('A', netflow = 50,  node_and_netflow=\"A [50]\")\n",
    "G_min_cost_flow.add_node('B', netflow = 40,  node_and_netflow=\"B [40]\")\n",
    "G_min_cost_flow.add_node('C', netflow = 0,   node_and_netflow=\"C [0]\")\n",
    "G_min_cost_flow.add_node('D', netflow = -30, node_and_netflow=\"D [-30]\")\n",
    "G_min_cost_flow.add_node('E', netflow = -60, node_and_netflow=\"E [-60]\")\n",
    "\n",
    "edge_labels_min_cost_flow = {('A', 'B'): {\"weight\": 2, \"capacity\": 10},\n",
    "                             ('A', 'C'): {\"weight\": 4, \"capacity\": \"inf\"},\n",
    "                             ('A', 'D'): {\"weight\": 9, \"capacity\": \"inf\"},\n",
    "                             ('B', 'C'): {\"weight\": 3, \"capacity\": \"inf\"},\n",
    "                             ('C', 'E'): {\"weight\": 1, \"capacity\": 80},\n",
    "                             ('E', 'D'): {\"weight\": 2, \"capacity\": \"inf\"},\n",
    "                             ('D', 'E'): {\"weight\": 3, \"capacity\": \"inf\"}\n",
    "                            }\n",
    "\n",
    "\n",
    "G_min_cost_flow.add_edges_from(edge_labels_min_cost_flow)\n",
    "for e in G_min_cost_flow.edges():\n",
    "    G_min_cost_flow[e[0]][e[1]][\"capacity\"] = edge_labels_min_cost_flow[e][\"capacity\"]\n",
    "    G_min_cost_flow[e[0]][e[1]][\"weight\"] = edge_labels_min_cost_flow[e][\"weight\"]\n",
    "\n",
    "\n",
    "n1 = G_min_cost_flow['E']['D']\n",
    "n2 = G_min_cost_flow['D']['E']\n",
    "\n",
    "n1[\"weight\"] = 2\n",
    "n1[\"capacity\"] = \"inf\"\n",
    "\n",
    "n2[\"weight\"] = 3\n",
    "n2[\"capacity\"]= \"inf\"\n",
    "\n",
    "\n",
    "stri1 = f'{({\"weight\": n1[\"weight\"]},{\"capacity\": n1[\"capacity\"]},)}'\n",
    "stri2 = f'\\n\\n\\n'\n",
    "stri3 = f'{({\"weight\": n2[\"weight\"]}, {\"capacity\": n2[\"capacity\"]},)}'\n",
    "string_for_edges_trouble_to_visualize_min_cost_flow = {('D', 'E'): ''.join([stri1, stri2, stri3])}\n",
    "\n",
    "list_of_edges_trouble_to_visualize_min_cost_flow = [('D', 'E'), ('E', 'D')]\n",
    "    \n",
    "node_labels_min_cost_flow = nx.get_node_attributes(G_min_cost_flow, \"node_and_netflow\")\n",
    "\n",
    "nodes_pos_modified = {}\n",
    "\n",
    "y_off = 0.03\n",
    "\n",
    "nodes_and_pos_modified = copy.deepcopy(nodes_and_pos)\n",
    "\n",
    "for node in G_min_cost_flow.nodes():\n",
    "    if node == 'B' or node == 'E':\n",
    "        nodes_and_pos_modified[node] =  [nodes_and_pos_modified[node][0], \n",
    "                                         nodes_and_pos_modified[node][1] - y_off]\n",
    "    else:\n",
    "        nodes_and_pos_modified[node] =  [nodes_and_pos_modified[node][0], \n",
    "                                         nodes_and_pos_modified[node][1] + y_off]\n",
    "        \n",
    "\n",
    "figsize_tuple = (9, 9)\n",
    "plot_graph_with_edges_trouble_to_visualize(figsize_tuple,\n",
    "                                           G_min_cost_flow, nodes_and_pos,\n",
    "                                           nodes_and_pos_modified,\n",
    "                                           node_labels_min_cost_flow,\n",
    "                                           string_for_edges_trouble_to_visualize_min_cost_flow,\n",
    "                                           list_of_edges_trouble_to_visualize_min_cost_flow)"
   ]
  },
  {
   "cell_type": "markdown",
   "metadata": {
    "tags": []
   },
   "source": [
    "Reescribiendo en forma matricial:"
   ]
  },
  {
   "cell_type": "markdown",
   "metadata": {
    "tags": []
   },
   "source": [
    "$$ \\min 2 x_{AB} + 4 x_{AC} + 9 x_{AD} + 3 x_{BC} + x_{CE} + 3 x_{DE} + 2x_{ED}$$\n",
    "\n",
    "$$\\text{sujeto a: }$$\n",
    "$$\n",
    "\\begin{eqnarray}\n",
    "&x_{AB}&  + &x_{AC}& + &x_{AD}&   &&         &&         &&         &&       &=& 50 \\nonumber \\\\\n",
    "&-x_{AB}&   &&         &&       + &x_{BC}&   &&         &&         &&       &=& 40 \\nonumber \\\\\n",
    "&&        - &x_{AC}&   &&       - &x_{BC}& + &x_{CE}&   &&         &&       &=& 0 \\nonumber \\\\\n",
    "&&          &&       - &x_{AD}&   &&         &&       + &x_{DE}& - &x_{ED}& &=& -30 \\nonumber \\\\\n",
    "&&          &&         &&         &&       - &x_{CE}& - &x_{DE}& + &x_{ED}& &=& -60 \\nonumber\n",
    "\\end{eqnarray}\n",
    "$$"
   ]
  },
  {
   "cell_type": "markdown",
   "metadata": {
    "tags": []
   },
   "source": [
    "### Resolviendo con nuestro paquete:"
   ]
  },
  {
   "cell_type": "code",
   "execution_count": 9,
   "metadata": {
    "tags": [
     "skip"
    ]
   },
   "outputs": [],
   "source": [
    "n_var_net = 7\n",
    "n_cons_net = 7"
   ]
  },
  {
   "cell_type": "code",
   "execution_count": 10,
   "metadata": {
    "tags": [
     "skip"
    ]
   },
   "outputs": [
    {
     "name": "stdout",
     "output_type": "stream",
     "text": [
      "[[  1.   1.   1.   0.   0.   0.   0.   0.   0.   0.   0.   0.   0.   0.\n",
      "    0.  50.]\n",
      " [ -1.   0.   0.   1.   0.   0.   0.   0.   0.   0.   0.   0.   0.   0.\n",
      "    0.  40.]\n",
      " [  0.  -1.   0.  -1.   1.   0.   0.   0.   0.   0.   0.   0.   0.   0.\n",
      "    0.   0.]\n",
      " [  0.   0.  -1.   0.   0.   1.  -1.   0.   0.   0.   0.   0.   0.   0.\n",
      "    0. -30.]\n",
      " [  0.   0.   0.   0.  -1.  -1.   1.   0.   0.   0.   0.   0.   0.   0.\n",
      "    0. -60.]\n",
      " [  1.   0.   0.   0.   0.   0.   0.   0.   0.   0.   0.   0.   1.   0.\n",
      "    0.  10.]\n",
      " [  0.   0.   0.   0.   1.   0.   0.   0.   0.   0.   0.   0.   0.   1.\n",
      "    0.  80.]\n",
      " [ -2.  -4.  -9.  -3.  -1.  -3.  -2.   0.   0.   0.   0.   0.   0.   0.\n",
      "    1.   0.]]\n",
      "{'x1': 0, 'x2': 40.0, 'x3': 10.0, 'x4': 40.0, 'x5': 80.0, 'x6': 0, 'x7': 20.0, 'min': 490.0}\n"
     ]
    }
   ],
   "source": [
    "net = create_matrix(n_var_net, n_cons_net)\n",
    "constrain(net,'1,1,1,0,0,0,0,E,50')\n",
    "constrain(net,'-1,0,0,1,0,0,0,E,40')\n",
    "constrain(net,'0,-1,0,-1,1,0,0,E,0')\n",
    "constrain(net,'0,0,-1,0,0,1,-1,E,-30')\n",
    "constrain(net,'0,0,0,0,-1,-1,1,E,-60')\n",
    "constrain(net,'1,0,0,0,0,0,0,L,10')\n",
    "constrain(net,'0,0,0,0,1,0,0,L,80')\n",
    "obj(net,'2,4,9,3,1,3,2,0')\n",
    "print(net)\n",
    "print(minz(net))"
   ]
  },
  {
   "cell_type": "markdown",
   "metadata": {
    "tags": []
   },
   "source": [
    "### Resolviendo con `linprog` del paquete **`scipy`**:"
   ]
  },
  {
   "cell_type": "code",
   "execution_count": 13,
   "metadata": {
    "tags": [
     "skip"
    ]
   },
   "outputs": [
    {
     "name": "stdout",
     "output_type": "stream",
     "text": [
      "     con: array([ 1.90228356e-07,  1.61896459e-07,  4.04727984e-09, -1.17374949e-07,\n",
      "       -2.38797142e-07])\n",
      "     fun: 489.99999837231917\n",
      " message: 'Optimization terminated successfully.'\n",
      "     nit: 6\n",
      "   slack: array([9.99999994e+00, 3.92003230e-07])\n",
      "  status: 0\n",
      " success: True\n",
      "       x: array([6.25611956e-08, 3.99999997e+01, 1.00000000e+01, 3.99999999e+01,\n",
      "       7.99999996e+01, 1.51241040e-08, 1.99999999e+01])\n"
     ]
    },
    {
     "name": "stderr",
     "output_type": "stream",
     "text": [
      "/usr/local/lib/python3.6/dist-packages/ipykernel_launcher.py:11: OptimizeWarning: A_eq does not appear to be of full row rank. To improve performance, check the problem formulation for redundant equality constraints.\n",
      "  # This is added back by InteractiveShellApp.init_path()\n"
     ]
    }
   ],
   "source": [
    "c_net = [2,4,9,3,1,3,2]\n",
    "A_ub_net = [[1,0,0,0,0,0,0],\n",
    "            [0,0,0,0,1,0,0]]\n",
    "b_ub_net = [10,80]\n",
    "A_eq_net = [[1,1,1,0,0,0,0],\n",
    "         [-1,0,0,1,0,0,0],\n",
    "         [0,-1,0,-1,1,0,0],\n",
    "         [0,0,-1,0,0,1,-1],\n",
    "         [0,0,0,0,-1,-1,1]]\n",
    "b_eq_net = [50,40,0,-30,-60]\n",
    "res_net = linprog(c_net, A_ub = A_ub_net, b_ub = b_ub_net, A_eq = A_eq_net, b_eq = b_eq_net)\n",
    "print(res_net)"
   ]
  },
  {
   "cell_type": "markdown",
   "metadata": {
    "tags": []
   },
   "source": [
    "### Imprimiendo la red solución:"
   ]
  },
  {
   "cell_type": "code",
   "execution_count": 14,
   "metadata": {
    "tags": [
     "skip"
    ]
   },
   "outputs": [
    {
     "data": {
      "image/png": "[encoded data removed]",
      "text/plain": [
       "<Figure size 648x648 with 1 Axes>"
      ]
     },
     "metadata": {},
     "output_type": "display_data"
    }
   ],
   "source": [
    "G_min_cost_flow_solution = nx.DiGraph()\n",
    "\n",
    "G_min_cost_flow_solution.add_node('A', netflow = 50,  node_and_netflow=\"A [50]\")\n",
    "G_min_cost_flow_solution.add_node('B', netflow = 40,  node_and_netflow=\"B [40]\")\n",
    "G_min_cost_flow_solution.add_node('C', netflow = 0,   node_and_netflow=\"C [0]\")\n",
    "G_min_cost_flow_solution.add_node('D', netflow = -30, node_and_netflow=\"D [-30]\")\n",
    "G_min_cost_flow_solution.add_node('E', netflow = -60, node_and_netflow=\"E [-60]\")\n",
    "\n",
    "edge_flows = {('A', 'C'): 40,\n",
    "              ('A', 'D'): 10,\n",
    "              ('B', 'C'): 40,\n",
    "              ('C', 'E'): 80,            \n",
    "              ('E', 'D'): 20\n",
    "              }\n",
    "\n",
    "G_min_cost_flow_solution.add_edges_from(edge_flows)\n",
    "node_labels_min_cost_flow_solution = nx.get_node_attributes(G_min_cost_flow_solution, \"node_and_netflow\")\n",
    "\n",
    "figsize_tuple = (9, 9)\n",
    "plot_graph(figsize_tuple, G_min_cost_flow_solution,\n",
    "           nodes_and_pos,\n",
    "           nodes_and_pos_modified,\n",
    "           node_labels_min_cost_flow_solution,\n",
    "           edge_flows)"
   ]
  },
  {
   "cell_type": "markdown",
   "metadata": {
    "tags": []
   },
   "source": [
    "Podemos ver que obtenemos los mismos resultados con nuestro paquete, utilizando `linprog` del paquete **`scipy`**, o con el algoritmo utilizado en las notas del Libro de Optimización."
   ]
  },
  {
   "cell_type": "code",
   "execution_count": null,
   "metadata": {
    "tags": []
   },
   "outputs": [],
   "source": []
  }
 ],
 "metadata": {
  "kernelspec": {
   "display_name": "Python 3",
   "language": "python",
   "name": "python3"
  },
  "kubeflow_notebook": {
   "autosnapshot": false,
   "docker_image": "caroacostatovany/optimizacion-2-practica-2-parte-1:0.1",
   "experiment": {
    "id": "9226a17d-3caf-42e6-b6ad-8054747d900b",
    "name": "Default"
   },
   "experiment_name": "Default",
   "katib_metadata": {
    "algorithm": {
     "algorithmName": "grid"
    },
    "maxFailedTrialCount": 3,
    "maxTrialCount": 12,
    "objective": {
     "objectiveMetricName": "",
     "type": "minimize"
    },
    "parallelTrialCount": 3,
    "parameters": []
   },
   "katib_run": false,
   "pipeline_description": "mex package 01",
   "pipeline_name": "mex-01",
   "snapshot_volumes": false,
   "steps_defaults": [],
   "volume_access_mode": "rwm",
   "volumes": [
    {
     "annotations": [],
     "mount_point": "/shared_volume/",
     "name": "hostpath-pvc",
     "size": 1,
     "size_type": "Gi",
     "snapshot": false,
     "snapshot_name": "",
     "type": "pvc"
    }
   ]
  },
  "language_info": {
   "codemirror_mode": {
    "name": "ipython",
    "version": 3
   },
   "file_extension": ".py",
   "mimetype": "text/x-python",
   "name": "python",
   "nbconvert_exporter": "python",
   "pygments_lexer": "ipython3",
   "version": "3.6.9"
  }
 },
 "nbformat": 4,
 "nbformat_minor": 4
}
