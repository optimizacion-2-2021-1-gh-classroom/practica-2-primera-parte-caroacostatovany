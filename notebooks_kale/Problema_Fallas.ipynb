{
 "cells": [
  {
   "cell_type": "code",
   "execution_count": 1,
   "metadata": {
    "tags": [
     "imports"
    ]
   },
   "outputs": [],
   "source": [
    "import copy\n",
    "import matplotlib.pyplot as plt\n",
    "import networkx as nx\n",
    "import numpy as np\n",
    "import os\n",
    "import pprint\n",
    "from scipy.optimize import linprog\n",
    "from pytest import approx\n",
    "\n",
    "from mex.simplex.simplex_networks import create_matrix, pivots_col, pivots_row, find_negative_col, find_negative_row, find_pivot_col, find_pivot_row, pivot\n",
    "from mex.simplex.problem_definition import add_cons, constrain, add_obj, obj, maxz, minz"
   ]
  },
  {
   "cell_type": "markdown",
   "metadata": {
    "tags": []
   },
   "source": [
    "## Problema prototipo:"
   ]
  },
  {
   "cell_type": "markdown",
   "metadata": {
    "tags": []
   },
   "source": [
    "$$\\min_{x \\in \\mathbb{R}^2} 100x_1 + 50x_2 + 100x_3 $$\n",
    "\n",
    "$$\\text{sujeto a: }$$\n",
    "$$ x_1 + x_2 + x_3 = 3000 $$\n",
    "$$ 28x_1 + 14x_2 + 10x_3 \\leq 42000 $$\n",
    "$$ 10x_1 + 12x_2 + 6x_3 \\leq 24000 $$\n",
    "$$ 30x_1 + 20x_2 + 30x_3 \\geq 75000 $$\n",
    "$$ 10x_1 + 10x_2 + 15x_3 \\geq 36000 $$"
   ]
  },
  {
   "cell_type": "markdown",
   "metadata": {
    "tags": []
   },
   "source": [
    "## Resolvemos con scipy"
   ]
  },
  {
   "cell_type": "code",
   "execution_count": 44,
   "metadata": {},
   "outputs": [],
   "source": [
    "A_ub = np.array([[28, 14, 10], [10, 12, 6], [-30, -20, -30], [-10, -10, -15]])\n",
    "b_ub = np.array([42000, 24000, -75000, -36000])\n",
    "A_eq = np.array([[1, 1, 1]])\n",
    "b_eq = np.array([3000])\n",
    "c = np.array([100, 50, 100])"
   ]
  },
  {
   "cell_type": "code",
   "execution_count": 45,
   "metadata": {
    "tags": [
     "block:funcion_min",
     "prev:definir_valores"
    ]
   },
   "outputs": [],
   "source": [
    "net_obj = linprog(c, A_ub, b_ub, A_eq, b_eq, bounds=(0, None)).fun"
   ]
  },
  {
   "cell_type": "code",
   "execution_count": 46,
   "metadata": {
    "tags": [
     "block:obtener_coeff_scipy",
     "prev:funcion_min"
    ]
   },
   "outputs": [],
   "source": [
    "net_coeff_obj = linprog(c, A_ub, b_ub, A_eq, b_eq, bounds=(0, None)).x"
   ]
  },
  {
   "cell_type": "code",
   "execution_count": 47,
   "metadata": {},
   "outputs": [
    {
     "data": {
      "text/plain": [
       "249999.98785527673"
      ]
     },
     "execution_count": 47,
     "metadata": {},
     "output_type": "execute_result"
    }
   ],
   "source": [
    "net_obj"
   ]
  },
  {
   "cell_type": "code",
   "execution_count": 48,
   "metadata": {},
   "outputs": [
    {
     "data": {
      "text/plain": [
       "array([1.21456692e-06, 9.99999949e+02, 1.99999990e+03])"
      ]
     },
     "execution_count": 48,
     "metadata": {},
     "output_type": "execute_result"
    }
   ],
   "source": [
    "net_coeff_obj"
   ]
  },
  {
   "cell_type": "markdown",
   "metadata": {
    "tags": []
   },
   "source": [
    "## Resolvemos con nuestro paquete"
   ]
  },
  {
   "cell_type": "code",
   "execution_count": 49,
   "metadata": {
    "tags": [
     "block:def_valores"
    ]
   },
   "outputs": [],
   "source": [
    "n_var_approx = 5\n",
    "n_cons_approx = 3"
   ]
  },
  {
   "cell_type": "code",
   "execution_count": 50,
   "metadata": {
    "tags": [
     "block:crear_matriz",
     "prev:def_valores"
    ]
   },
   "outputs": [],
   "source": [
    "matrix_net_approx = create_matrix(n_var_approx, n_cons_approx)"
   ]
  },
  {
   "cell_type": "code",
   "execution_count": 51,
   "metadata": {
    "tags": [
     "block:limitaciones_obj",
     "prev:crear_matriz"
    ]
   },
   "outputs": [],
   "source": [
    "constrain(matrix_net_approx,'1,1,1,E,3000')\n",
    "constrain(matrix_net_approx,'28,14,10,L,42000')\n",
    "constrain(matrix_net_approx,'10,12,6,L,24000')\n",
    "constrain(matrix_net_approx,'-30,-20,-30,L,-75000')\n",
    "constrain(matrix_net_approx,'-10,-10,-15,L,-36000')\n",
    "obj(matrix_net_approx,'100,50,100,0')"
   ]
  },
  {
   "cell_type": "code",
   "execution_count": 53,
   "metadata": {
    "tags": [
     "block:definir_problema",
     "prev:limitaciones_obj"
    ]
   },
   "outputs": [],
   "source": [
    "problem_approx = minz(matrix_net_approx)"
   ]
  },
  {
   "cell_type": "code",
   "execution_count": 54,
   "metadata": {
    "tags": [
     "block:min_coeff_approx",
     "prev:definir_problema"
    ]
   },
   "outputs": [],
   "source": [
    "net_approx = problem_approx['min']\n",
    "problem_approx.pop('min')\n",
    "net_coeff_approx = np.array(list(problem_approx.values()))"
   ]
  },
  {
   "cell_type": "code",
   "execution_count": 58,
   "metadata": {},
   "outputs": [
    {
     "data": {
      "text/plain": [
       "0.0"
      ]
     },
     "execution_count": 58,
     "metadata": {},
     "output_type": "execute_result"
    }
   ],
   "source": [
    "net_approx"
   ]
  },
  {
   "cell_type": "code",
   "execution_count": null,
   "metadata": {},
   "outputs": [],
   "source": [
    "net_coeff_appro"
   ]
  },
  {
   "cell_type": "code",
   "execution_count": 55,
   "metadata": {
    "tags": [
     "block:asserts",
     "prev:min_coeff_approx",
     "prev:obtener_coeff_scipy"
    ]
   },
   "outputs": [
    {
     "ename": "AssertionError",
     "evalue": "",
     "output_type": "error",
     "traceback": [
      "\u001b[0;31m---------------------------------------------------------------------------\u001b[0m",
      "\u001b[0;31mAssertionError\u001b[0m                            Traceback (most recent call last)",
      "\u001b[0;32m<ipython-input-55-e4346ccd28e1>\u001b[0m in \u001b[0;36m<module>\u001b[0;34m\u001b[0m\n\u001b[0;32m----> 1\u001b[0;31m \u001b[0;32massert\u001b[0m \u001b[0mnet_obj\u001b[0m \u001b[0;34m==\u001b[0m \u001b[0mapprox\u001b[0m\u001b[0;34m(\u001b[0m\u001b[0mnet_approx\u001b[0m\u001b[0;34m)\u001b[0m\u001b[0;34m\u001b[0m\u001b[0;34m\u001b[0m\u001b[0m\n\u001b[0m\u001b[1;32m      2\u001b[0m \u001b[0;32massert\u001b[0m \u001b[0mnp\u001b[0m\u001b[0;34m.\u001b[0m\u001b[0mround\u001b[0m\u001b[0;34m(\u001b[0m\u001b[0mnet_coeff_obj\u001b[0m\u001b[0;34m,\u001b[0m\u001b[0;36m0\u001b[0m\u001b[0;34m)\u001b[0m \u001b[0;34m==\u001b[0m \u001b[0mapprox\u001b[0m\u001b[0;34m(\u001b[0m\u001b[0mnet_coeff_approx\u001b[0m\u001b[0;34m)\u001b[0m\u001b[0;34m\u001b[0m\u001b[0;34m\u001b[0m\u001b[0m\n",
      "\u001b[0;31mAssertionError\u001b[0m: "
     ]
    }
   ],
   "source": [
    "assert net_obj == approx(net_approx)\n",
    "assert np.round(net_coeff_obj,0) == approx(net_coeff_approx)"
   ]
  },
  {
   "cell_type": "code",
   "execution_count": 56,
   "metadata": {},
   "outputs": [
    {
     "data": {
      "text/plain": [
       "0.0"
      ]
     },
     "execution_count": 56,
     "metadata": {},
     "output_type": "execute_result"
    }
   ],
   "source": [
    "net_approx"
   ]
  },
  {
   "cell_type": "code",
   "execution_count": 57,
   "metadata": {},
   "outputs": [
    {
     "data": {
      "text/plain": [
       "array([   0.,    0.,    0., 3000., 3000.])"
      ]
     },
     "execution_count": 57,
     "metadata": {},
     "output_type": "execute_result"
    }
   ],
   "source": [
    "net_coeff_approx"
   ]
  },
  {
   "cell_type": "code",
   "execution_count": null,
   "metadata": {},
   "outputs": [],
   "source": []
  }
 ],
 "metadata": {
  "kernelspec": {
   "display_name": "Python 3",
   "language": "python",
   "name": "python3"
  },
  "kubeflow_notebook": {
   "autosnapshot": false,
   "docker_image": "caroacostatovany/optimizacion-2-practica-2-parte-1:0.1",
   "experiment": {
    "id": "49eef961-7515-4425-9a35-f9b489b801c6",
    "name": "Default"
   },
   "experiment_name": "Default",
   "katib_metadata": {
    "algorithm": {
     "algorithmName": "grid"
    },
    "maxFailedTrialCount": 3,
    "maxTrialCount": 12,
    "objective": {
     "objectiveMetricName": "",
     "type": "minimize"
    },
    "parallelTrialCount": 3,
    "parameters": []
   },
   "katib_run": false,
   "pipeline_description": "mex package 01",
   "pipeline_name": "mex-min-01",
   "snapshot_volumes": false,
   "steps_defaults": [],
   "volume_access_mode": "rwm",
   "volumes": [
    {
     "annotations": [],
     "mount_point": "/shared_volume/",
     "name": "hostpath-pvc",
     "size": 1,
     "size_type": "Gi",
     "snapshot": false,
     "snapshot_name": "",
     "type": "pvc"
    }
   ]
  },
  "language_info": {
   "codemirror_mode": {
    "name": "ipython",
    "version": 3
   },
   "file_extension": ".py",
   "mimetype": "text/x-python",
   "name": "python",
   "nbconvert_exporter": "python",
   "pygments_lexer": "ipython3",
   "version": "3.6.9"
  }
 },
 "nbformat": 4,
 "nbformat_minor": 4
}
